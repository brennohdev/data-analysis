{
 "cells": [
  {
   "metadata": {},
   "cell_type": "markdown",
   "source": [
    "# Brenno Henrique Alves da Silva Costa\n",
    "### CDN | 20240011820\n",
    "O codigo está no github, caso o arquivo tenha algum erro: https://github.com/brennohdev/data-analysis/blob/main/notebooks/Trabalho_Final_Brenno.ipynb"
   ],
   "id": "ced7afd68caaaaad"
  },
  {
   "metadata": {},
   "cell_type": "markdown",
   "source": "## Imports para todo o Exercício",
   "id": "926745da5d87368a"
  },
  {
   "metadata": {
    "ExecuteTime": {
     "end_time": "2025-07-17T04:38:46.283661Z",
     "start_time": "2025-07-17T04:38:46.279555Z"
    }
   },
   "cell_type": "code",
   "source": [
    "import math\n",
    "from IPython.display import display\n",
    "\n",
    "import pandas as pd\n",
    "import numpy as np\n",
    "import seaborn as sns\n",
    "import matplotlib.pyplot as plt\n",
    "\n",
    "pd.options.display.float_format = '{:,.2f}'.format"
   ],
   "id": "9eaaf1f0e4d612c3",
   "outputs": [],
   "execution_count": 1
  },
  {
   "metadata": {},
   "cell_type": "markdown",
   "source": "# Questões de Python",
   "id": "85e3c7cd0593752b"
  },
  {
   "metadata": {
    "ExecuteTime": {
     "end_time": "2025-07-17T04:38:49.827122Z",
     "start_time": "2025-07-17T04:38:46.597564Z"
    }
   },
   "cell_type": "code",
   "source": [
    "# Questão 1. Pede ao usuário para digitar um numero\n",
    "\n",
    "try:\n",
    "    numero = float(input(\"Digite um numero: \"))\n",
    "    if numero > 0:\n",
    "        print(f\"O numero {numero} é positivo.\")\n",
    "    elif numero < 0:\n",
    "        print(f\"O numero {numero} é negativo.\")\n",
    "    else:\n",
    "        print(\"O numero é ZERO.\")\n",
    "\n",
    "except ValueError:\n",
    "    print(\"Entrada invakida. Por favor, digite um numero.\")"
   ],
   "id": "9a534291fc86dfd9",
   "outputs": [
    {
     "name": "stdout",
     "output_type": "stream",
     "text": [
      "O numero 5.0 é positivo.\n"
     ]
    }
   ],
   "execution_count": 2
  },
  {
   "metadata": {
    "ExecuteTime": {
     "end_time": "2025-07-17T04:38:51.518580Z",
     "start_time": "2025-07-17T04:38:49.890582Z"
    }
   },
   "cell_type": "code",
   "source": [
    "# Questão 2. Pede ao usuário para digitar um numero inteiro\n",
    "try:\n",
    "    numero = int(input(\"Digite um numero inteiro: \"))\n",
    "    if numero % 2 == 0:\n",
    "        print(f\"O numero {numero} é par.\")\n",
    "    else:\n",
    "        print(f\"O numero {numero} é impar.\")\n",
    "\n",
    "except ValueError:\n",
    "    print(\"Entrada invalida. Por favor, digite um numero valido.\")"
   ],
   "id": "ed6a8aca02fcff24",
   "outputs": [
    {
     "name": "stdout",
     "output_type": "stream",
     "text": [
      "O numero 5 é impar.\n"
     ]
    }
   ],
   "execution_count": 3
  },
  {
   "metadata": {
    "ExecuteTime": {
     "end_time": "2025-07-17T04:39:00.551885Z",
     "start_time": "2025-07-17T04:38:51.579046Z"
    }
   },
   "cell_type": "code",
   "source": [
    "# Questão 3. Pergunta o valor da hora e as horas trabalhadas\n",
    "\n",
    "try:\n",
    "    valor_hora = float(input(\"Quanto você ganha por hora?\"))\n",
    "    horas_mes = float(input(\"Quantas horas você trabalhou este mês?\"))\n",
    "\n",
    "    salario_total = valor_hora * horas_mes\n",
    "    print(f\"\\nSeu salario total neste mês é de: R$ {salario_total:,.2f}\")\n",
    "\n",
    "except ValueError:\n",
    "    print(\"Entrada invalida. Por favor, digite valores validos.\")"
   ],
   "id": "1d7eb5739e39dba4",
   "outputs": [
    {
     "name": "stdout",
     "output_type": "stream",
     "text": [
      "\n",
      "Seu salario total neste mês é de: R$ 2,338.00\n"
     ]
    }
   ],
   "execution_count": 4
  },
  {
   "metadata": {
    "ExecuteTime": {
     "end_time": "2025-07-17T04:39:02.169149Z",
     "start_time": "2025-07-17T04:39:00.590187Z"
    }
   },
   "cell_type": "code",
   "source": [
    "# Questão 4. Programa loja de tintas\n",
    "try:\n",
    "    area = float(input(\"Área a ser pintada (m²): \"))\n",
    "    latas = math.ceil((area / 3) / 18)\n",
    "    custo = latas * 80\n",
    "\n",
    "    print(f\"\\nQuantidade de latas: {latas}\")\n",
    "    print(f\"Preço total: R$ {custo:,.2f}\")\n",
    "except ValueError:\n",
    "    print(\"Entrada invada. Digite um numero.\")\n"
   ],
   "id": "edd39ca5739a4ed7",
   "outputs": [
    {
     "name": "stdout",
     "output_type": "stream",
     "text": [
      "\n",
      "Quantidade de latas: 1\n",
      "Preço total: R$ 80.00\n"
     ]
    }
   ],
   "execution_count": 5
  },
  {
   "metadata": {
    "ExecuteTime": {
     "end_time": "2025-07-17T04:39:03.470159Z",
     "start_time": "2025-07-17T04:39:02.239973Z"
    }
   },
   "cell_type": "code",
   "source": [
    "# questão 5. loja de tintas parte 2, ja utilizando funções aqui para modularização\n",
    "\n",
    "COBERTURA_POR_LITRO = 6\n",
    "FOLGA = 1.1\n",
    "LATA_LITROS = 18\n",
    "LATA_PRECO = 80\n",
    "GALEAO_LITROS = 4\n",
    "GALEAO_PRECO = 25\n",
    "\n",
    "def calcular_litros(area):\n",
    "    return (area / COBERTURA_POR_LITRO) * FOLGA\n",
    "\n",
    "def calcular_somente_latas(litros):\n",
    "    latas = math.ceil(litros / LATA_LITROS)\n",
    "    custo = latas * LATA_PRECO\n",
    "    return latas, custo\n",
    "\n",
    "def calcular_somente_galoes(litros):\n",
    "    galoes = math.ceil(litros / GALEAO_LITROS)\n",
    "    custo = galoes * GALEAO_PRECO\n",
    "    return galoes, custo\n",
    "\n",
    "def calcular_misto(litros):\n",
    "    latas = int(litros // LATA_LITROS)\n",
    "    restante = litros % LATA_LITROS\n",
    "    galoes = math.ceil(restante / GALEAO_LITROS)\n",
    "    custo = (latas * LATA_PRECO) + (galoes * GALEAO_PRECO)\n",
    "    return latas, galoes, custo\n",
    "\n",
    "def exibir_opcoes(area):\n",
    "    litros = calcular_litros(area)\n",
    "    print(f\"\\nTotal de tinta necessário (com 10% de folga): {litros:.2f} L\")\n",
    "\n",
    "    latas_a, custo_a = calcular_somente_latas(litros)\n",
    "    print(\"\\nOpção A: Apenas Latas de 18L\")\n",
    "    print(f\"{latas_a} lata(s) - R$ {custo_a:,.2f}\")\n",
    "\n",
    "    galoes_b, custo_b = calcular_somente_galoes(litros)\n",
    "    print(\"\\nOpção B: Apenas Galões de 4L\")\n",
    "    print(f\"{galoes_b} galão(ões) - R$ {custo_b:,.2f}\")\n",
    "\n",
    "    latas_c, galoes_c, custo_c = calcular_misto(litros)\n",
    "    print(\"\\nOpção C: Mistura para Menor Custo \")\n",
    "    print(f\"{latas_c} lata(s) e {galoes_c} galão(ões),  R$ {custo_c:,.2f}\")\n",
    "\n",
    "try:\n",
    "    area_pintar = float(input(\"Qual o tamanho da área a ser pintada (em m²)? \"))\n",
    "    if area_pintar <= 0:\n",
    "        print(\"A area tem que ser maior que 0\")\n",
    "    else:\n",
    "        exibir_opcoes(area_pintar)\n",
    "except ValueError:\n",
    "    print(\"Entrada invalida. Por favor, digite um numero\")"
   ],
   "id": "fc2e1e23377b7ff4",
   "outputs": [
    {
     "name": "stdout",
     "output_type": "stream",
     "text": [
      "\n",
      "Total de tinta necessário (com 10% de folga): 0.92 L\n",
      "\n",
      "Opção A: Apenas Latas de 18L\n",
      "1 lata(s) - R$ 80.00\n",
      "\n",
      "Opção B: Apenas Galões de 4L\n",
      "1 galão(ões) - R$ 25.00\n",
      "\n",
      "Opção C: Mistura para Menor Custo \n",
      "0 lata(s) e 1 galão(ões),  R$ 25.00\n"
     ]
    }
   ],
   "execution_count": 6
  },
  {
   "metadata": {
    "ExecuteTime": {
     "end_time": "2025-07-17T04:39:14.679101Z",
     "start_time": "2025-07-17T04:39:03.527369Z"
    }
   },
   "cell_type": "code",
   "source": [
    "# questão 6. formula da tabela price\n",
    "\n",
    "try:\n",
    "    valor_produto = float(input(\"Digite o valor do veículo: R$ \"))\n",
    "    valor_entrada = float(input(\"Digite o valor da entrada: R$ \"))\n",
    "    num_prestacoes = int(input(\"Digite o número de prestações: \"))\n",
    "    taxa_juros_percentual = float(input(\"Digite a taxa de juros mensal (%): \"))\n",
    "\n",
    "    saldo_devedor = valor_produto - valor_entrada\n",
    "\n",
    "    i = taxa_juros_percentual / 100\n",
    "    n = num_prestacoes\n",
    "\n",
    "    if i > 0:\n",
    "        valor_prestacao = saldo_devedor * (i * (1 + i)**n) / ((1 + i)**n - 1)\n",
    "    else:\n",
    "        valor_prestacao = saldo_devedor / n\n",
    "\n",
    "    print(\"\\nSimulação do Financiamento\")\n",
    "    print(f\"Valor financiado: R$ {saldo_devedor:,.2f}\")\n",
    "    print(f\"Valor da prestação: R$ {valor_prestacao:,.2f} por {n} meses.\")\n",
    "    print(f\"Custo total do financiamento (sem entrada): R$ {valor_prestacao * n:,.2f}\")\n",
    "\n",
    "except ValueError:\n",
    "    print(\"Entrada invalida. Por favor, digite numeros.\")"
   ],
   "id": "86060a453f3f4cbf",
   "outputs": [
    {
     "name": "stdout",
     "output_type": "stream",
     "text": [
      "\n",
      "Simulação do Financiamento\n",
      "Valor financiado: R$ 11,422.00\n",
      "Valor da prestação: R$ 1,080.06 por 12 meses.\n",
      "Custo total do financiamento (sem entrada): R$ 12,960.72\n"
     ]
    }
   ],
   "execution_count": 7
  },
  {
   "metadata": {
    "ExecuteTime": {
     "end_time": "2025-07-17T04:39:18.869201Z",
     "start_time": "2025-07-17T04:39:14.711156Z"
    }
   },
   "cell_type": "code",
   "source": [
    "def saudacao(nome):\n",
    "    return f\"Olá, {nome}! Bem-vindo(a) ao Python.\"\n",
    "\n",
    "meu_nome = input(\"Olá, como você se chama?\")\n",
    "mensagem_de_boas_vindas = saudacao(meu_nome)\n",
    "\n",
    "print(mensagem_de_boas_vindas)"
   ],
   "id": "73acac36cf7fc93e",
   "outputs": [
    {
     "name": "stdout",
     "output_type": "stream",
     "text": [
      "Olá, brenno! Bem-vindo(a) ao Python.\n"
     ]
    }
   ],
   "execution_count": 8
  },
  {
   "metadata": {},
   "cell_type": "markdown",
   "source": "# **Questões de Pandas**",
   "id": "f524674e7988d3e9"
  },
  {
   "metadata": {},
   "cell_type": "markdown",
   "source": "### Questão 8: Análise de vendas",
   "id": "90dc025840e0755b"
  },
  {
   "metadata": {
    "ExecuteTime": {
     "end_time": "2025-07-17T04:39:19.010549Z",
     "start_time": "2025-07-17T04:39:18.928980Z"
    }
   },
   "cell_type": "code",
   "source": [
    "# (a) Carregue esses dados em um DataFrame Pandas\n",
    "df_vendas = pd.read_csv('../data/raw/vendas.csv')\n",
    "\n",
    "# (b) Mostre as primeiras 2 linhas do DataFrame.\n",
    "display(df_vendas.head(2))"
   ],
   "id": "38541f90f83a362f",
   "outputs": [
    {
     "data": {
      "text/plain": [
       "  Produto  Preço  Quantidade        Data\n",
       "0       A  10.00           5  2024-01-15\n",
       "1       B  25.50           2  2024-01-15"
      ],
      "text/html": [
       "<div>\n",
       "<style scoped>\n",
       "    .dataframe tbody tr th:only-of-type {\n",
       "        vertical-align: middle;\n",
       "    }\n",
       "\n",
       "    .dataframe tbody tr th {\n",
       "        vertical-align: top;\n",
       "    }\n",
       "\n",
       "    .dataframe thead th {\n",
       "        text-align: right;\n",
       "    }\n",
       "</style>\n",
       "<table border=\"1\" class=\"dataframe\">\n",
       "  <thead>\n",
       "    <tr style=\"text-align: right;\">\n",
       "      <th></th>\n",
       "      <th>Produto</th>\n",
       "      <th>Preço</th>\n",
       "      <th>Quantidade</th>\n",
       "      <th>Data</th>\n",
       "    </tr>\n",
       "  </thead>\n",
       "  <tbody>\n",
       "    <tr>\n",
       "      <th>0</th>\n",
       "      <td>A</td>\n",
       "      <td>10.00</td>\n",
       "      <td>5</td>\n",
       "      <td>2024-01-15</td>\n",
       "    </tr>\n",
       "    <tr>\n",
       "      <th>1</th>\n",
       "      <td>B</td>\n",
       "      <td>25.50</td>\n",
       "      <td>2</td>\n",
       "      <td>2024-01-15</td>\n",
       "    </tr>\n",
       "  </tbody>\n",
       "</table>\n",
       "</div>"
      ]
     },
     "metadata": {},
     "output_type": "display_data"
    }
   ],
   "execution_count": 9
  },
  {
   "metadata": {
    "ExecuteTime": {
     "end_time": "2025-07-17T04:39:19.102208Z",
     "start_time": "2025-07-17T04:39:19.094645Z"
    }
   },
   "cell_type": "code",
   "source": [
    "# (c) Calcule o valor total de vendas para cada produto (Preco * Quantidade). Adicione essa informação como uma nova coluna ’Total_Vendas’\n",
    "df_vendas['Total_Vendas'] = (df_vendas['Preço'] * df_vendas['Quantidade'])\n",
    "display(df_vendas)"
   ],
   "id": "bbb85fc18bbb468d",
   "outputs": [
    {
     "data": {
      "text/plain": [
       "  Produto  Preço  Quantidade        Data  Total_Vendas\n",
       "0       A  10.00           5  2024-01-15         50.00\n",
       "1       B  25.50           2  2024-01-15         51.00\n",
       "2       A  10.00           3  2024-01-16         30.00\n",
       "3       C  12.00           1  2024-01-16         12.00"
      ],
      "text/html": [
       "<div>\n",
       "<style scoped>\n",
       "    .dataframe tbody tr th:only-of-type {\n",
       "        vertical-align: middle;\n",
       "    }\n",
       "\n",
       "    .dataframe tbody tr th {\n",
       "        vertical-align: top;\n",
       "    }\n",
       "\n",
       "    .dataframe thead th {\n",
       "        text-align: right;\n",
       "    }\n",
       "</style>\n",
       "<table border=\"1\" class=\"dataframe\">\n",
       "  <thead>\n",
       "    <tr style=\"text-align: right;\">\n",
       "      <th></th>\n",
       "      <th>Produto</th>\n",
       "      <th>Preço</th>\n",
       "      <th>Quantidade</th>\n",
       "      <th>Data</th>\n",
       "      <th>Total_Vendas</th>\n",
       "    </tr>\n",
       "  </thead>\n",
       "  <tbody>\n",
       "    <tr>\n",
       "      <th>0</th>\n",
       "      <td>A</td>\n",
       "      <td>10.00</td>\n",
       "      <td>5</td>\n",
       "      <td>2024-01-15</td>\n",
       "      <td>50.00</td>\n",
       "    </tr>\n",
       "    <tr>\n",
       "      <th>1</th>\n",
       "      <td>B</td>\n",
       "      <td>25.50</td>\n",
       "      <td>2</td>\n",
       "      <td>2024-01-15</td>\n",
       "      <td>51.00</td>\n",
       "    </tr>\n",
       "    <tr>\n",
       "      <th>2</th>\n",
       "      <td>A</td>\n",
       "      <td>10.00</td>\n",
       "      <td>3</td>\n",
       "      <td>2024-01-16</td>\n",
       "      <td>30.00</td>\n",
       "    </tr>\n",
       "    <tr>\n",
       "      <th>3</th>\n",
       "      <td>C</td>\n",
       "      <td>12.00</td>\n",
       "      <td>1</td>\n",
       "      <td>2024-01-16</td>\n",
       "      <td>12.00</td>\n",
       "    </tr>\n",
       "  </tbody>\n",
       "</table>\n",
       "</div>"
      ]
     },
     "metadata": {},
     "output_type": "display_data"
    }
   ],
   "execution_count": 10
  },
  {
   "metadata": {
    "ExecuteTime": {
     "end_time": "2025-07-17T04:39:19.232111Z",
     "start_time": "2025-07-17T04:39:19.224105Z"
    }
   },
   "cell_type": "code",
   "source": [
    "# (d) Qual o produto com o maior ’Total_Vendas’?\n",
    "vendas_por_produto = df_vendas.groupby('Produto')['Total_Vendas'].sum()\n",
    "vendas_por_produto.head(1)"
   ],
   "id": "9551c2bb910873a8",
   "outputs": [
    {
     "data": {
      "text/plain": [
       "Produto\n",
       "A   80.00\n",
       "Name: Total_Vendas, dtype: float64"
      ]
     },
     "execution_count": 11,
     "metadata": {},
     "output_type": "execute_result"
    }
   ],
   "execution_count": 11
  },
  {
   "metadata": {},
   "cell_type": "markdown",
   "source": "### Questão 9: Visualização de dados",
   "id": "343932cf2b8e7b14"
  },
  {
   "metadata": {
    "ExecuteTime": {
     "end_time": "2025-07-17T04:39:19.917685Z",
     "start_time": "2025-07-17T04:39:19.434887Z"
    }
   },
   "cell_type": "code",
   "source": [
    "# (a) Gere um gráfico de barras mostrando o ’Total_Vendas’ para cada ’Produto’\n",
    "print(\"--- Gráfico de Total de Vendas por Produto\")\n",
    "plt.figure(figsize=(10, 5))\n",
    "vendas_por_produto.plot(kind='bar', color=sns.color_palette('viridis'))\n",
    "\n",
    "# (b) Adicione título e rótulos\n",
    "plt.title('Total de vendas por Produto')\n",
    "plt.xlabel('Produto')\n",
    "plt.ylabel('Total de vendas')\n",
    "plt.xticks(rotation=0)\n",
    "plt.grid(axis='y', linestyle='--', alpha=0.7)\n",
    "\n",
    "plt.savefig('../reports/figures/vendas_por_produto.png')\n",
    "plt.show()"
   ],
   "id": "2670b073a31d84c7",
   "outputs": [
    {
     "name": "stdout",
     "output_type": "stream",
     "text": [
      "--- Gráfico de Total de Vendas por Produto\n"
     ]
    },
    {
     "data": {
      "text/plain": [
       "<Figure size 1000x500 with 1 Axes>"
      ],
      "image/png": "[encoded data removed]"
     },
     "metadata": {},
     "output_type": "display_data"
    }
   ],
   "execution_count": 12
  },
  {
   "metadata": {},
   "cell_type": "markdown",
   "source": "### Questão 10: Suponha que você tenha os seguintes dados em um arquivo ‘clientes.csv’:",
   "id": "46067f112077b3b4"
  },
  {
   "metadata": {
    "ExecuteTime": {
     "end_time": "2025-07-17T04:39:19.987475Z",
     "start_time": "2025-07-17T04:39:19.959691Z"
    }
   },
   "cell_type": "code",
   "source": [
    "# (a) Carregue os dados em um DataFrame Pandas.\n",
    "clientes_db = pd.read_csv('../data/raw/clientes2.csv')\n",
    "\n",
    "# (b) Mostre as primeiras 3 linhas do DataFrame.\n",
    "print(\"--- Primeiras 3 linhas ---\")\n",
    "display(clientes_db.head(3))\n",
    "\n",
    "# (c) Calcule a média de compras por gênero.\n",
    "print(\"\\n--- Média de Compras por Gênero ---\")\n",
    "media_por_genero = clientes_db.groupby('Genero')['Compras'].mean()\n",
    "print(media_por_genero)\n",
    "\n",
    "# (d) Crie uma nova coluna ’Idade_Ajustada’.\n",
    "print(\"\\n--- DataFrame com a Nova Coluna 'Idade_Ajustada' ---\")\n",
    "clientes_db['Idade_Ajustada'] = clientes_db['Idade'] - 5\n",
    "display(clientes_db.head())\n",
    "\n",
    "# (e) Qual o gênero com a maior média de compras?\n",
    "print(\"\\n--- Gênero com Maior Média de Compras ---\")\n",
    "genero_campeao = media_por_genero.idxmax()\n",
    "maior_media = media_por_genero.max()\n",
    "\n",
    "print(f\"O gênero com a maior média de compras é '{genero_campeao}', com uma média de R$ {maior_media:.2f}.\")"
   ],
   "id": "1621054a62e06d69",
   "outputs": [
    {
     "name": "stdout",
     "output_type": "stream",
     "text": [
      "--- Primeiras 3 linhas ---\n"
     ]
    },
    {
     "data": {
      "text/plain": [
       "  Cliente  Idade     Genero  Compras\n",
       "0     Ana     28   Feminino      150\n",
       "1   Bruno     35  Masculino      200\n",
       "2  Carlos     22  Masculino      100"
      ],
      "text/html": [
       "<div>\n",
       "<style scoped>\n",
       "    .dataframe tbody tr th:only-of-type {\n",
       "        vertical-align: middle;\n",
       "    }\n",
       "\n",
       "    .dataframe tbody tr th {\n",
       "        vertical-align: top;\n",
       "    }\n",
       "\n",
       "    .dataframe thead th {\n",
       "        text-align: right;\n",
       "    }\n",
       "</style>\n",
       "<table border=\"1\" class=\"dataframe\">\n",
       "  <thead>\n",
       "    <tr style=\"text-align: right;\">\n",
       "      <th></th>\n",
       "      <th>Cliente</th>\n",
       "      <th>Idade</th>\n",
       "      <th>Genero</th>\n",
       "      <th>Compras</th>\n",
       "    </tr>\n",
       "  </thead>\n",
       "  <tbody>\n",
       "    <tr>\n",
       "      <th>0</th>\n",
       "      <td>Ana</td>\n",
       "      <td>28</td>\n",
       "      <td>Feminino</td>\n",
       "      <td>150</td>\n",
       "    </tr>\n",
       "    <tr>\n",
       "      <th>1</th>\n",
       "      <td>Bruno</td>\n",
       "      <td>35</td>\n",
       "      <td>Masculino</td>\n",
       "      <td>200</td>\n",
       "    </tr>\n",
       "    <tr>\n",
       "      <th>2</th>\n",
       "      <td>Carlos</td>\n",
       "      <td>22</td>\n",
       "      <td>Masculino</td>\n",
       "      <td>100</td>\n",
       "    </tr>\n",
       "  </tbody>\n",
       "</table>\n",
       "</div>"
      ]
     },
     "metadata": {},
     "output_type": "display_data"
    },
    {
     "name": "stdout",
     "output_type": "stream",
     "text": [
      "\n",
      "--- Média de Compras por Gênero ---\n",
      "Genero\n",
      "Feminino    200.00\n",
      "Masculino   150.00\n",
      "Name: Compras, dtype: float64\n",
      "\n",
      "--- DataFrame com a Nova Coluna 'Idade_Ajustada' ---\n"
     ]
    },
    {
     "data": {
      "text/plain": [
       "  Cliente  Idade     Genero  Compras  Idade_Ajustada\n",
       "0     Ana     28   Feminino      150              23\n",
       "1   Bruno     35  Masculino      200              30\n",
       "2  Carlos     22  Masculino      100              17\n",
       "3   Diana     30   Feminino      250              25"
      ],
      "text/html": [
       "<div>\n",
       "<style scoped>\n",
       "    .dataframe tbody tr th:only-of-type {\n",
       "        vertical-align: middle;\n",
       "    }\n",
       "\n",
       "    .dataframe tbody tr th {\n",
       "        vertical-align: top;\n",
       "    }\n",
       "\n",
       "    .dataframe thead th {\n",
       "        text-align: right;\n",
       "    }\n",
       "</style>\n",
       "<table border=\"1\" class=\"dataframe\">\n",
       "  <thead>\n",
       "    <tr style=\"text-align: right;\">\n",
       "      <th></th>\n",
       "      <th>Cliente</th>\n",
       "      <th>Idade</th>\n",
       "      <th>Genero</th>\n",
       "      <th>Compras</th>\n",
       "      <th>Idade_Ajustada</th>\n",
       "    </tr>\n",
       "  </thead>\n",
       "  <tbody>\n",
       "    <tr>\n",
       "      <th>0</th>\n",
       "      <td>Ana</td>\n",
       "      <td>28</td>\n",
       "      <td>Feminino</td>\n",
       "      <td>150</td>\n",
       "      <td>23</td>\n",
       "    </tr>\n",
       "    <tr>\n",
       "      <th>1</th>\n",
       "      <td>Bruno</td>\n",
       "      <td>35</td>\n",
       "      <td>Masculino</td>\n",
       "      <td>200</td>\n",
       "      <td>30</td>\n",
       "    </tr>\n",
       "    <tr>\n",
       "      <th>2</th>\n",
       "      <td>Carlos</td>\n",
       "      <td>22</td>\n",
       "      <td>Masculino</td>\n",
       "      <td>100</td>\n",
       "      <td>17</td>\n",
       "    </tr>\n",
       "    <tr>\n",
       "      <th>3</th>\n",
       "      <td>Diana</td>\n",
       "      <td>30</td>\n",
       "      <td>Feminino</td>\n",
       "      <td>250</td>\n",
       "      <td>25</td>\n",
       "    </tr>\n",
       "  </tbody>\n",
       "</table>\n",
       "</div>"
      ]
     },
     "metadata": {},
     "output_type": "display_data"
    },
    {
     "name": "stdout",
     "output_type": "stream",
     "text": [
      "\n",
      "--- Gênero com Maior Média de Compras ---\n",
      "O gênero com a maior média de compras é 'Feminino', com uma média de R$ 200.00.\n"
     ]
    }
   ],
   "execution_count": 13
  },
  {
   "metadata": {},
   "cell_type": "markdown",
   "source": "### Questão 11: Utilizando o DataFrame ‘df_clientes‘ do Exercício 10, filtre os clientes que têm mais de 25 anos E realizaram compras acima de R$ 150,00. Mostre o DataFrame resultante.\n",
   "id": "4dc7d49c8dd58460"
  },
  {
   "metadata": {
    "ExecuteTime": {
     "end_time": "2025-07-17T04:39:20.285431Z",
     "start_time": "2025-07-17T04:39:20.273528Z"
    }
   },
   "cell_type": "code",
   "source": [
    "# --- Questão 11 ---\n",
    "print(\"\\n--- Clientes com mais de 25 anos E compras acima de R$ 150,00 ---\")\n",
    "clientes_filtrados = clientes_db.loc[(clientes_db['Idade_Ajustada'] > 25) & (clientes_db['Compras'] > 150)]\n",
    "display(clientes_filtrados)"
   ],
   "id": "1bc8dbbf30ea0355",
   "outputs": [
    {
     "name": "stdout",
     "output_type": "stream",
     "text": [
      "\n",
      "--- Clientes com mais de 25 anos E compras acima de R$ 150,00 ---\n"
     ]
    },
    {
     "data": {
      "text/plain": [
       "  Cliente  Idade     Genero  Compras  Idade_Ajustada\n",
       "1   Bruno     35  Masculino      200              30"
      ],
      "text/html": [
       "<div>\n",
       "<style scoped>\n",
       "    .dataframe tbody tr th:only-of-type {\n",
       "        vertical-align: middle;\n",
       "    }\n",
       "\n",
       "    .dataframe tbody tr th {\n",
       "        vertical-align: top;\n",
       "    }\n",
       "\n",
       "    .dataframe thead th {\n",
       "        text-align: right;\n",
       "    }\n",
       "</style>\n",
       "<table border=\"1\" class=\"dataframe\">\n",
       "  <thead>\n",
       "    <tr style=\"text-align: right;\">\n",
       "      <th></th>\n",
       "      <th>Cliente</th>\n",
       "      <th>Idade</th>\n",
       "      <th>Genero</th>\n",
       "      <th>Compras</th>\n",
       "      <th>Idade_Ajustada</th>\n",
       "    </tr>\n",
       "  </thead>\n",
       "  <tbody>\n",
       "    <tr>\n",
       "      <th>1</th>\n",
       "      <td>Bruno</td>\n",
       "      <td>35</td>\n",
       "      <td>Masculino</td>\n",
       "      <td>200</td>\n",
       "      <td>30</td>\n",
       "    </tr>\n",
       "  </tbody>\n",
       "</table>\n",
       "</div>"
      ]
     },
     "metadata": {},
     "output_type": "display_data"
    }
   ],
   "execution_count": 14
  },
  {
   "metadata": {},
   "cell_type": "markdown",
   "source": "# Desafio 1: Análise de Infraestrutura das Escolas Públicas da Paraíba",
   "id": "75844e73d5acdec9"
  },
  {
   "metadata": {},
   "cell_type": "markdown",
   "source": "### 1. Extração e Preparação dos Dados",
   "id": "9d28875f66940eb0"
  },
  {
   "metadata": {
    "ExecuteTime": {
     "end_time": "2025-07-17T04:39:23.122607Z",
     "start_time": "2025-07-17T04:39:20.499857Z"
    }
   },
   "cell_type": "code",
   "source": [
    "caminho_censo = r'C:\\Users\\Brenno\\Documents\\projects\\DATA-ANALYSIS\\data\\raw\\microdados_ed_basica_2024.csv'\n",
    "\n",
    "colunas_censo = [\n",
    "    'SG_UF', 'TP_DEPENDENCIA', 'NO_ENTIDADE', 'NO_MUNICIPIO',\n",
    "    'IN_AGUA_INEXISTENTE', 'IN_ENERGIA_INEXISTENTE', 'IN_ESGOTO_INEXISTENTE',\n",
    "    'IN_TRATAMENTO_LIXO_INEXISTENTE', 'IN_ACESSIBILIDADE_INEXISTENTE',\n",
    "    'IN_BANHEIRO', 'IN_BIBLIOTECA', 'IN_LABORATORIO_CIENCIAS',\n",
    "    'IN_LABORATORIO_INFORMATICA', 'IN_QUADRA_ESPORTES', 'IN_BANDA_LARGA'\n",
    "]\n",
    "\n",
    "df_censo_raw = pd.read_csv(\n",
    "    caminho_censo,\n",
    "    sep=';',\n",
    "    encoding='latin1',\n",
    "    usecols=colunas_censo,\n",
    "    low_memory=False\n",
    ")\n",
    "\n",
    "df_pb = df_censo_raw[df_censo_raw['SG_UF'] == 'PB'].copy()\n",
    "df_publicas_pb = df_pb[df_pb['TP_DEPENDENCIA'] != 4].copy()\n",
    "\n",
    "print(f\"-- Dados do Censo Escolar carregados e filtrados com sucesso. --\")\n",
    "print(f\"Análise focada em {len(df_publicas_pb)} escolas públicas na Paraíba.\")"
   ],
   "id": "a5b63b5811c966ef",
   "outputs": [
    {
     "name": "stdout",
     "output_type": "stream",
     "text": [
      "-- Dados do Censo Escolar carregados e filtrados com sucesso. --\n",
      "Análise focada em 4357 escolas públicas na Paraíba.\n"
     ]
    }
   ],
   "execution_count": 15
  },
  {
   "metadata": {},
   "cell_type": "markdown",
   "source": "### 2. Análise e Cálculo dos Indicadores de Falta",
   "id": "fedc3ff87f402029"
  },
  {
   "metadata": {
    "ExecuteTime": {
     "end_time": "2025-07-17T04:39:23.213015Z",
     "start_time": "2025-07-17T04:39:23.200478Z"
    }
   },
   "cell_type": "code",
   "source": [
    "colunas_infra_originais = [\n",
    "    'IN_AGUA_INEXISTENTE', 'IN_ENERGIA_INEXISTENTE', 'IN_ESGOTO_INEXISTENTE',\n",
    "    'IN_TRATAMENTO_LIXO_INEXISTENTE', 'IN_ACESSIBILIDADE_INEXISTENTE',\n",
    "    'IN_BANHEIRO', 'IN_BIBLIOTECA', 'IN_LABORATORIO_CIENCIAS',\n",
    "    'IN_LABORATORIO_INFORMATICA', 'IN_QUADRA_ESPORTES', 'IN_BANDA_LARGA'\n",
    "]\n",
    "\n",
    "percentuais_de_falta = {}\n",
    "\n",
    "colunas_negativas = ['IN_AGUA_INEXISTENTE', 'IN_ENERGIA_INEXISTENTE', 'IN_ESGOTO_INEXISTENTE',\n",
    "                     'IN_TRATAMENTO_LIXO_INEXISTENTE', 'IN_ACESSIBILIDADE_INEXISTENTE']\n",
    "for col in colunas_negativas:\n",
    "    percentuais_de_falta[col] = df_publicas_pb[col].mean() * 100\n",
    "\n",
    "colunas_positivas = ['IN_BANHEIRO', 'IN_BIBLIOTECA', 'IN_LABORATORIO_CIENCIAS',\n",
    "                     'IN_LABORATORIO_INFORMATICA', 'IN_QUADRA_ESPORTES', 'IN_BANDA_LARGA']\n",
    "for col in colunas_positivas:\n",
    "    percentuais_de_falta[col] = (df_publicas_pb[col] == 0).mean() * 100\n",
    "\n",
    "df_desafios = pd.DataFrame(list(percentuais_de_falta.items()), columns=['Recursos', 'Percentual de Falta (%)'])\n",
    "\n",
    "df_desafios['Recursos'] = df_desafios['Recursos'].str.replace('IN_', '').str.replace('_INEXISTENTE', '').str.replace(\n",
    "    '_', ' ').str.title()\n",
    "\n",
    "df_desafios_ordenado = df_desafios.sort_values(by='Percentual de Falta (%)', ascending=False)\n",
    "\n",
    "print(\"--- Tabela de Desafios de Infraestrutura (Cálculo Corrigido) ---\")\n",
    "display(df_desafios_ordenado)"
   ],
   "id": "8665a2da3edbcc1c",
   "outputs": [
    {
     "name": "stdout",
     "output_type": "stream",
     "text": [
      "--- Tabela de Desafios de Infraestrutura (Cálculo Corrigido) ---\n"
     ]
    },
    {
     "data": {
      "text/plain": [
       "                   Recursos  Percentual de Falta (%)\n",
       "7      Laboratorio Ciencias                    77.90\n",
       "3           Tratamento Lixo                    76.45\n",
       "9           Quadra Esportes                    65.99\n",
       "8   Laboratorio Informatica                    65.18\n",
       "6                Biblioteca                    59.97\n",
       "4            Acessibilidade                    21.43\n",
       "10              Banda Larga                    18.18\n",
       "0                      Agua                     1.90\n",
       "2                    Esgoto                     1.71\n",
       "5                  Banheiro                     0.73\n",
       "1                   Energia                     0.00"
      ],
      "text/html": [
       "<div>\n",
       "<style scoped>\n",
       "    .dataframe tbody tr th:only-of-type {\n",
       "        vertical-align: middle;\n",
       "    }\n",
       "\n",
       "    .dataframe tbody tr th {\n",
       "        vertical-align: top;\n",
       "    }\n",
       "\n",
       "    .dataframe thead th {\n",
       "        text-align: right;\n",
       "    }\n",
       "</style>\n",
       "<table border=\"1\" class=\"dataframe\">\n",
       "  <thead>\n",
       "    <tr style=\"text-align: right;\">\n",
       "      <th></th>\n",
       "      <th>Recursos</th>\n",
       "      <th>Percentual de Falta (%)</th>\n",
       "    </tr>\n",
       "  </thead>\n",
       "  <tbody>\n",
       "    <tr>\n",
       "      <th>7</th>\n",
       "      <td>Laboratorio Ciencias</td>\n",
       "      <td>77.90</td>\n",
       "    </tr>\n",
       "    <tr>\n",
       "      <th>3</th>\n",
       "      <td>Tratamento Lixo</td>\n",
       "      <td>76.45</td>\n",
       "    </tr>\n",
       "    <tr>\n",
       "      <th>9</th>\n",
       "      <td>Quadra Esportes</td>\n",
       "      <td>65.99</td>\n",
       "    </tr>\n",
       "    <tr>\n",
       "      <th>8</th>\n",
       "      <td>Laboratorio Informatica</td>\n",
       "      <td>65.18</td>\n",
       "    </tr>\n",
       "    <tr>\n",
       "      <th>6</th>\n",
       "      <td>Biblioteca</td>\n",
       "      <td>59.97</td>\n",
       "    </tr>\n",
       "    <tr>\n",
       "      <th>4</th>\n",
       "      <td>Acessibilidade</td>\n",
       "      <td>21.43</td>\n",
       "    </tr>\n",
       "    <tr>\n",
       "      <th>10</th>\n",
       "      <td>Banda Larga</td>\n",
       "      <td>18.18</td>\n",
       "    </tr>\n",
       "    <tr>\n",
       "      <th>0</th>\n",
       "      <td>Agua</td>\n",
       "      <td>1.90</td>\n",
       "    </tr>\n",
       "    <tr>\n",
       "      <th>2</th>\n",
       "      <td>Esgoto</td>\n",
       "      <td>1.71</td>\n",
       "    </tr>\n",
       "    <tr>\n",
       "      <th>5</th>\n",
       "      <td>Banheiro</td>\n",
       "      <td>0.73</td>\n",
       "    </tr>\n",
       "    <tr>\n",
       "      <th>1</th>\n",
       "      <td>Energia</td>\n",
       "      <td>0.00</td>\n",
       "    </tr>\n",
       "  </tbody>\n",
       "</table>\n",
       "</div>"
      ]
     },
     "metadata": {},
     "output_type": "display_data"
    }
   ],
   "execution_count": 16
  },
  {
   "metadata": {},
   "cell_type": "markdown",
   "source": "### 3. Apresentação dos Resultados e Conclusão",
   "id": "6fd33bc3cdd79207"
  },
  {
   "metadata": {
    "ExecuteTime": {
     "end_time": "2025-07-17T04:39:23.535642Z",
     "start_time": "2025-07-17T04:39:23.259141Z"
    }
   },
   "cell_type": "code",
   "source": [
    "plt.figure(figsize=(12, 8))\n",
    "sns.barplot(x='Percentual de Falta (%)', y='Recursos', data=df_desafios_ordenado)\n",
    "plt.title('Principais Desafios de Infraestrutura nas Escolas Públicas da Paraíba', fontsize=16)\n",
    "plt.xlabel('Percentual de Escolas com Ausência do Item (%)', fontsize=12)\n",
    "plt.ylabel('Item de Infraestrutura', fontsize=12)\n",
    "plt.grid(axis='x', linestyle='--', alpha=0.6)\n",
    "plt.show()"
   ],
   "id": "c4878cbd8e55d30",
   "outputs": [
    {
     "data": {
      "text/plain": [
       "<Figure size 1200x800 with 1 Axes>"
      ],
      "image/png": "[encoded data removed]"
     },
     "metadata": {},
     "output_type": "display_data"
    }
   ],
   "execution_count": 17
  },
  {
   "metadata": {},
   "cell_type": "markdown",
   "source": [
    "**Conclusão da Análise:**\n",
    "\n",
    "A análise dos dados revela que os maiores desafios de infraestrutura para as escolas públicas da Paraíba estão concentrados em recursos pedagógicos e de acessibilidade. Conforme o gráfico e a tabela demonstram, a ausência de itens como Laboratorio de Ciencias e Quadra de Esportes são os pontos mais críticos, afetando mais da metade das instituições. Em contrapartida, a infraestrutura básica de energia e água já é uma realidade para quase todas as escolas analisadas.\n"
   ],
   "id": "d9b24b57fc514aba"
  },
  {
   "metadata": {},
   "cell_type": "markdown",
   "source": "### 4. Extra: Índice de Qualidade (IQIE)",
   "id": "24b6eb52bca74e50"
  },
  {
   "metadata": {
    "ExecuteTime": {
     "end_time": "2025-07-17T04:39:23.579580Z",
     "start_time": "2025-07-17T04:39:23.559734Z"
    }
   },
   "cell_type": "code",
   "source": [
    "df_iqie = df_publicas_pb.copy()\n",
    "\n",
    "infra_negativa = [\n",
    "    'IN_AGUA_INEXISTENTE', 'IN_ENERGIA_INEXISTENTE', 'IN_ESGOTO_INEXISTENTE',\n",
    "    'IN_TRATAMENTO_LIXO_INEXISTENTE', 'IN_ACESSIBILIDADE_INEXISTENTE'\n",
    "]\n",
    "\n",
    "for col in infra_negativa:\n",
    "    novo_nome = col.replace('_INEXISTENTE', '_EXISTENTE')\n",
    "    df_iqie[novo_nome] = 1 - df_iqie[col]\n",
    "\n",
    "print(\"Colunas de infraestrutura harmonizadas.\")\n",
    "\n",
    "pesos_infra = {\n",
    "    'IN_ENERGIA_EXISTENTE': 10, 'IN_AGUA_EXISTENTE': 10, 'IN_ESGOTO_EXISTENTE': 8,\n",
    "    'IN_BANHEIRO': 8, 'IN_ACESSIBILIDADE_EXISTENTE': 7, 'IN_TRATAMENTO_LIXO_EXISTENTE': 6,\n",
    "    'IN_BANDA_LARGA': 6, 'IN_LABORATORIO_INFORMATICA': 5, 'IN_BIBLIOTECA': 5,\n",
    "    'IN_LABORATORIO_CIENCIAS': 4, 'IN_QUADRA_ESPORTES': 3\n",
    "}\n",
    "colunas_iqie = list(pesos_infra.keys())\n",
    "print(\"Pesos definidos.\")\n",
    "\n",
    "print(\"\\nCalculando a 'nota' IQIE para cada escola...\")\n",
    "\n",
    "df_calculo = df_iqie[colunas_iqie].fillna(0)\n",
    "\n",
    "soma_ponderada = (df_calculo * pd.Series(pesos_infra)).sum(axis=1)\n",
    "total_pesos = sum(pesos_infra.values())\n",
    "df_iqie['IQIE'] = soma_ponderada / total_pesos\n",
    "print(\"Cálculo do IQIE finalizado.\")\n",
    "\n",
    "df_ranking = df_iqie[['NO_ENTIDADE', 'NO_MUNICIPIO', 'IQIE']].sort_values(by='IQIE', ascending=False)\n",
    "\n",
    "print(\"\\n--- As 5 Escolas com Melhor Infraestrutura (Maior IQIE) ---\")\n",
    "display(df_ranking.head(5))\n",
    "\n",
    "print(\"\\n--- As 5 Escolas com Infraestrutura Mais Desafiadora (Menor IQIE) ---\")\n",
    "display(df_ranking.tail(5))"
   ],
   "id": "6e1eeda73df1300e",
   "outputs": [
    {
     "name": "stdout",
     "output_type": "stream",
     "text": [
      "Colunas de infraestrutura harmonizadas.\n",
      "Pesos definidos.\n",
      "\n",
      "Calculando a 'nota' IQIE para cada escola...\n",
      "Cálculo do IQIE finalizado.\n",
      "\n",
      "--- As 5 Escolas com Melhor Infraestrutura (Maior IQIE) ---\n"
     ]
    },
    {
     "data": {
      "text/plain": [
       "                                             NO_ENTIDADE NO_MUNICIPIO  IQIE\n",
       "61406  ESCOLA MUNICIPAL DO ENSINO FUNDAMENTAL SENADOR...    Dona Inês  1.00\n",
       "61918         ECIT PROFESSOR PEDRO AUGUSTO PORTO CAMINHA  João Pessoa  1.00\n",
       "61692                           ECIT LUIS GONZAGA BURITY         Ingá  1.00\n",
       "61750                            IFPB - CAMPUS ITABAIANA    Itabaiana  1.00\n",
       "61927            ECIT LUIZ GONZAGA DE ALBUQUERQUE BURITY  João Pessoa  1.00"
      ],
      "text/html": [
       "<div>\n",
       "<style scoped>\n",
       "    .dataframe tbody tr th:only-of-type {\n",
       "        vertical-align: middle;\n",
       "    }\n",
       "\n",
       "    .dataframe tbody tr th {\n",
       "        vertical-align: top;\n",
       "    }\n",
       "\n",
       "    .dataframe thead th {\n",
       "        text-align: right;\n",
       "    }\n",
       "</style>\n",
       "<table border=\"1\" class=\"dataframe\">\n",
       "  <thead>\n",
       "    <tr style=\"text-align: right;\">\n",
       "      <th></th>\n",
       "      <th>NO_ENTIDADE</th>\n",
       "      <th>NO_MUNICIPIO</th>\n",
       "      <th>IQIE</th>\n",
       "    </tr>\n",
       "  </thead>\n",
       "  <tbody>\n",
       "    <tr>\n",
       "      <th>61406</th>\n",
       "      <td>ESCOLA MUNICIPAL DO ENSINO FUNDAMENTAL SENADOR...</td>\n",
       "      <td>Dona Inês</td>\n",
       "      <td>1.00</td>\n",
       "    </tr>\n",
       "    <tr>\n",
       "      <th>61918</th>\n",
       "      <td>ECIT PROFESSOR PEDRO AUGUSTO PORTO CAMINHA</td>\n",
       "      <td>João Pessoa</td>\n",
       "      <td>1.00</td>\n",
       "    </tr>\n",
       "    <tr>\n",
       "      <th>61692</th>\n",
       "      <td>ECIT LUIS GONZAGA BURITY</td>\n",
       "      <td>Ingá</td>\n",
       "      <td>1.00</td>\n",
       "    </tr>\n",
       "    <tr>\n",
       "      <th>61750</th>\n",
       "      <td>IFPB - CAMPUS ITABAIANA</td>\n",
       "      <td>Itabaiana</td>\n",
       "      <td>1.00</td>\n",
       "    </tr>\n",
       "    <tr>\n",
       "      <th>61927</th>\n",
       "      <td>ECIT LUIZ GONZAGA DE ALBUQUERQUE BURITY</td>\n",
       "      <td>João Pessoa</td>\n",
       "      <td>1.00</td>\n",
       "    </tr>\n",
       "  </tbody>\n",
       "</table>\n",
       "</div>"
      ]
     },
     "metadata": {},
     "output_type": "display_data"
    },
    {
     "name": "stdout",
     "output_type": "stream",
     "text": [
      "\n",
      "--- As 5 Escolas com Infraestrutura Mais Desafiadora (Menor IQIE) ---\n"
     ]
    },
    {
     "data": {
      "text/plain": [
       "                         NO_ENTIDADE NO_MUNICIPIO  IQIE\n",
       "61062   EMEF DO SITIO CHICO VAQUEIRO    Conceição -0.17\n",
       "61053  EMEF SEVERINO JOSE DOS SANTOS    Conceição -0.17\n",
       "61535    EMEF JOSE PEREIRA DE AGUIAR   Gado Bravo -0.22\n",
       "61064     EMEF JOSE MARIANO DE SOUSA    Conceição -0.28\n",
       "62909  GR ESC MANOEL FELIPE DA SILVA      Mulungu -0.31"
      ],
      "text/html": [
       "<div>\n",
       "<style scoped>\n",
       "    .dataframe tbody tr th:only-of-type {\n",
       "        vertical-align: middle;\n",
       "    }\n",
       "\n",
       "    .dataframe tbody tr th {\n",
       "        vertical-align: top;\n",
       "    }\n",
       "\n",
       "    .dataframe thead th {\n",
       "        text-align: right;\n",
       "    }\n",
       "</style>\n",
       "<table border=\"1\" class=\"dataframe\">\n",
       "  <thead>\n",
       "    <tr style=\"text-align: right;\">\n",
       "      <th></th>\n",
       "      <th>NO_ENTIDADE</th>\n",
       "      <th>NO_MUNICIPIO</th>\n",
       "      <th>IQIE</th>\n",
       "    </tr>\n",
       "  </thead>\n",
       "  <tbody>\n",
       "    <tr>\n",
       "      <th>61062</th>\n",
       "      <td>EMEF DO SITIO CHICO VAQUEIRO</td>\n",
       "      <td>Conceição</td>\n",
       "      <td>-0.17</td>\n",
       "    </tr>\n",
       "    <tr>\n",
       "      <th>61053</th>\n",
       "      <td>EMEF SEVERINO JOSE DOS SANTOS</td>\n",
       "      <td>Conceição</td>\n",
       "      <td>-0.17</td>\n",
       "    </tr>\n",
       "    <tr>\n",
       "      <th>61535</th>\n",
       "      <td>EMEF JOSE PEREIRA DE AGUIAR</td>\n",
       "      <td>Gado Bravo</td>\n",
       "      <td>-0.22</td>\n",
       "    </tr>\n",
       "    <tr>\n",
       "      <th>61064</th>\n",
       "      <td>EMEF JOSE MARIANO DE SOUSA</td>\n",
       "      <td>Conceição</td>\n",
       "      <td>-0.28</td>\n",
       "    </tr>\n",
       "    <tr>\n",
       "      <th>62909</th>\n",
       "      <td>GR ESC MANOEL FELIPE DA SILVA</td>\n",
       "      <td>Mulungu</td>\n",
       "      <td>-0.31</td>\n",
       "    </tr>\n",
       "  </tbody>\n",
       "</table>\n",
       "</div>"
      ]
     },
     "metadata": {},
     "output_type": "display_data"
    }
   ],
   "execution_count": 18
  },
  {
   "metadata": {},
   "cell_type": "markdown",
   "source": [
    "# Desafio 2: Análise da PNAD Contínua na Paraíba\n",
    "\n",
    "- **UF**: `@0001 UF $2`\n",
    "- **V2009 (Idade)**: `@0104 V2009 3`\n",
    "- **VD3001 (Sabe ler e escrever?)**: `@0108 VD3001 $1`\n",
    "- **VD4020 (Rendimento de todos os trabalhos)**: `@0618 VD4020 8`"
   ],
   "id": "9e7d699e296baaa"
  },
  {
   "metadata": {},
   "cell_type": "markdown",
   "source": "### 1. Extração e Leitura dos dados",
   "id": "94a6007ec10dd19e"
  },
  {
   "metadata": {
    "ExecuteTime": {
     "end_time": "2025-07-17T04:39:37.796643Z",
     "start_time": "2025-07-17T04:39:23.753167Z"
    }
   },
   "cell_type": "code",
   "source": [
    "caminhos_dados_pnad = r'C:\\Users\\Brenno\\Documents\\projects\\DATA-ANALYSIS\\data\\raw\\PNADC_2023_trimestre2.txt'\n",
    "\n",
    "larguras = [2, 3, 1, 8]\n",
    "nomes_colunas = ['UF', 'Idade', 'Sabe_Ler_Escrever', 'Rendimento']\n",
    "posicoes = [\n",
    "    (6 - 1, 6 - 1 + 2),\n",
    "    (104 - 1, 104 - 1 + 3),\n",
    "    (108 - 1, 108 - 1 + 1),\n",
    "    (618 - 1, 618 - 1 + 8)\n",
    "]\n",
    "\n",
    "df_pnad = pd.read_fwf(\n",
    "    caminhos_dados_pnad,\n",
    "    colspecs=posicoes,\n",
    "    names=nomes_colunas\n",
    ")\n",
    "\n",
    "print(\"DADOS DA PNAD CARREGADOS!\")\n",
    "display(df_pnad.head())\n",
    "df_pnad.info()"
   ],
   "id": "d6ac79492b9e366f",
   "outputs": [
    {
     "name": "stdout",
     "output_type": "stream",
     "text": [
      "DADOS DA PNAD CARREGADOS!\n"
     ]
    },
    {
     "data": {
      "text/plain": [
       "   UF  Idade  Sabe_Ler_Escrever  Rendimento\n",
       "0  11     30               1.00    5,000.00\n",
       "1  11     29               1.00         NaN\n",
       "2  11     50               1.00    3,500.00\n",
       "3  11     25               1.00         NaN\n",
       "4  11      2                NaN         NaN"
      ],
      "text/html": [
       "<div>\n",
       "<style scoped>\n",
       "    .dataframe tbody tr th:only-of-type {\n",
       "        vertical-align: middle;\n",
       "    }\n",
       "\n",
       "    .dataframe tbody tr th {\n",
       "        vertical-align: top;\n",
       "    }\n",
       "\n",
       "    .dataframe thead th {\n",
       "        text-align: right;\n",
       "    }\n",
       "</style>\n",
       "<table border=\"1\" class=\"dataframe\">\n",
       "  <thead>\n",
       "    <tr style=\"text-align: right;\">\n",
       "      <th></th>\n",
       "      <th>UF</th>\n",
       "      <th>Idade</th>\n",
       "      <th>Sabe_Ler_Escrever</th>\n",
       "      <th>Rendimento</th>\n",
       "    </tr>\n",
       "  </thead>\n",
       "  <tbody>\n",
       "    <tr>\n",
       "      <th>0</th>\n",
       "      <td>11</td>\n",
       "      <td>30</td>\n",
       "      <td>1.00</td>\n",
       "      <td>5,000.00</td>\n",
       "    </tr>\n",
       "    <tr>\n",
       "      <th>1</th>\n",
       "      <td>11</td>\n",
       "      <td>29</td>\n",
       "      <td>1.00</td>\n",
       "      <td>NaN</td>\n",
       "    </tr>\n",
       "    <tr>\n",
       "      <th>2</th>\n",
       "      <td>11</td>\n",
       "      <td>50</td>\n",
       "      <td>1.00</td>\n",
       "      <td>3,500.00</td>\n",
       "    </tr>\n",
       "    <tr>\n",
       "      <th>3</th>\n",
       "      <td>11</td>\n",
       "      <td>25</td>\n",
       "      <td>1.00</td>\n",
       "      <td>NaN</td>\n",
       "    </tr>\n",
       "    <tr>\n",
       "      <th>4</th>\n",
       "      <td>11</td>\n",
       "      <td>2</td>\n",
       "      <td>NaN</td>\n",
       "      <td>NaN</td>\n",
       "    </tr>\n",
       "  </tbody>\n",
       "</table>\n",
       "</div>"
      ]
     },
     "metadata": {},
     "output_type": "display_data"
    },
    {
     "name": "stdout",
     "output_type": "stream",
     "text": [
      "<class 'pandas.core.frame.DataFrame'>\n",
      "RangeIndex: 474575 entries, 0 to 474574\n",
      "Data columns (total 4 columns):\n",
      " #   Column             Non-Null Count   Dtype  \n",
      "---  ------             --------------   -----  \n",
      " 0   UF                 474575 non-null  int64  \n",
      " 1   Idade              474575 non-null  int64  \n",
      " 2   Sabe_Ler_Escrever  447500 non-null  float64\n",
      " 3   Rendimento         197487 non-null  float64\n",
      "dtypes: float64(2), int64(2)\n",
      "memory usage: 14.5 MB\n"
     ]
    }
   ],
   "execution_count": 19
  },
  {
   "metadata": {
    "ExecuteTime": {
     "end_time": "2025-07-17T04:39:37.861348Z",
     "start_time": "2025-07-17T04:39:37.852744Z"
    }
   },
   "cell_type": "code",
   "source": [
    "print(f\"Tamanho original do DataFrame (Brasil): {len(df_pnad)} linhas.\")\n",
    "\n",
    "df_pb = df_pnad[df_pnad['UF'] == 25].copy()\n",
    "print(f\"Tamanho do DataFrame após filtrar para a Paraíba: {len(df_pb)} linhas.\")"
   ],
   "id": "14bb0bc14b1bd694",
   "outputs": [
    {
     "name": "stdout",
     "output_type": "stream",
     "text": [
      "Tamanho original do DataFrame (Brasil): 474575 linhas.\n",
      "Tamanho do DataFrame após filtrar para a Paraíba: 12445 linhas.\n"
     ]
    }
   ],
   "execution_count": 20
  },
  {
   "metadata": {},
   "cell_type": "markdown",
   "source": "### 2. Transformar os dados em dados limpos e utilizáveis",
   "id": "ba738c6255af8235"
  },
  {
   "metadata": {
    "ExecuteTime": {
     "end_time": "2025-07-17T04:39:38.018829Z",
     "start_time": "2025-07-17T04:39:38.008990Z"
    }
   },
   "cell_type": "code",
   "source": [
    "print(\"Valores na coluna 'Sabe_Ler_Escrever':\")\n",
    "print(df_pb['Sabe_Ler_Escrever'].value_counts())\n",
    "\n",
    "print(\"\\nMaiores valores na coluna 'Rendimento' (para checar códigos especiais):\")\n",
    "print(df_pb['Rendimento'].value_counts().sort_index(ascending=False).head())\n",
    "\n",
    "# Não tem codigos especiais (como 99999999, no output, e os NaN ja estão representando os dados ausentes corretamente)."
   ],
   "id": "c88a39a21d046d75",
   "outputs": [
    {
     "name": "stdout",
     "output_type": "stream",
     "text": [
      "Valores na coluna 'Sabe_Ler_Escrever':\n",
      "Sabe_Ler_Escrever\n",
      "1.00    9802\n",
      "2.00    1947\n",
      "Name: count, dtype: int64\n",
      "\n",
      "Maiores valores na coluna 'Rendimento' (para checar códigos especiais):\n",
      "Rendimento\n",
      "150,000.00    1\n",
      "50,000.00     1\n",
      "40,000.00     1\n",
      "39,000.00     2\n",
      "36,000.00     3\n",
      "Name: count, dtype: int64\n"
     ]
    }
   ],
   "execution_count": 21
  },
  {
   "metadata": {
    "ExecuteTime": {
     "end_time": "2025-07-17T04:39:38.087977Z",
     "start_time": "2025-07-17T04:39:38.077193Z"
    }
   },
   "cell_type": "code",
   "source": [
    "df_pb['Alfabetizado'] = df_pb['Sabe_Ler_Escrever'].map({1: 'Sim', 2: 'Não'})\n",
    "\n",
    "print(\"Nova Coluna 'Alfabetizado' criada:\")\n",
    "display(df_pb[['Sabe_Ler_Escrever', 'Alfabetizado']].head())\n"
   ],
   "id": "96aee883ce114f1b",
   "outputs": [
    {
     "name": "stdout",
     "output_type": "stream",
     "text": [
      "Nova Coluna 'Alfabetizado' criada:\n"
     ]
    },
    {
     "data": {
      "text/plain": [
       "        Sabe_Ler_Escrever Alfabetizado\n",
       "140299               1.00          Sim\n",
       "140300               1.00          Sim\n",
       "140301               1.00          Sim\n",
       "140302               1.00          Sim\n",
       "140303               1.00          Sim"
      ],
      "text/html": [
       "<div>\n",
       "<style scoped>\n",
       "    .dataframe tbody tr th:only-of-type {\n",
       "        vertical-align: middle;\n",
       "    }\n",
       "\n",
       "    .dataframe tbody tr th {\n",
       "        vertical-align: top;\n",
       "    }\n",
       "\n",
       "    .dataframe thead th {\n",
       "        text-align: right;\n",
       "    }\n",
       "</style>\n",
       "<table border=\"1\" class=\"dataframe\">\n",
       "  <thead>\n",
       "    <tr style=\"text-align: right;\">\n",
       "      <th></th>\n",
       "      <th>Sabe_Ler_Escrever</th>\n",
       "      <th>Alfabetizado</th>\n",
       "    </tr>\n",
       "  </thead>\n",
       "  <tbody>\n",
       "    <tr>\n",
       "      <th>140299</th>\n",
       "      <td>1.00</td>\n",
       "      <td>Sim</td>\n",
       "    </tr>\n",
       "    <tr>\n",
       "      <th>140300</th>\n",
       "      <td>1.00</td>\n",
       "      <td>Sim</td>\n",
       "    </tr>\n",
       "    <tr>\n",
       "      <th>140301</th>\n",
       "      <td>1.00</td>\n",
       "      <td>Sim</td>\n",
       "    </tr>\n",
       "    <tr>\n",
       "      <th>140302</th>\n",
       "      <td>1.00</td>\n",
       "      <td>Sim</td>\n",
       "    </tr>\n",
       "    <tr>\n",
       "      <th>140303</th>\n",
       "      <td>1.00</td>\n",
       "      <td>Sim</td>\n",
       "    </tr>\n",
       "  </tbody>\n",
       "</table>\n",
       "</div>"
      ]
     },
     "metadata": {},
     "output_type": "display_data"
    }
   ],
   "execution_count": 22
  },
  {
   "metadata": {
    "ExecuteTime": {
     "end_time": "2025-07-17T04:39:38.196982Z",
     "start_time": "2025-07-17T04:39:38.184710Z"
    }
   },
   "cell_type": "code",
   "source": [
    "print(\"--- Informações do DataFrame Transformado ---\")\n",
    "df_pb.info()"
   ],
   "id": "f3e3d107b95ca6f6",
   "outputs": [
    {
     "name": "stdout",
     "output_type": "stream",
     "text": [
      "--- Informações do DataFrame Transformado ---\n",
      "<class 'pandas.core.frame.DataFrame'>\n",
      "Index: 12445 entries, 140299 to 152743\n",
      "Data columns (total 5 columns):\n",
      " #   Column             Non-Null Count  Dtype  \n",
      "---  ------             --------------  -----  \n",
      " 0   UF                 12445 non-null  int64  \n",
      " 1   Idade              12445 non-null  int64  \n",
      " 2   Sabe_Ler_Escrever  11749 non-null  float64\n",
      " 3   Rendimento         4318 non-null   float64\n",
      " 4   Alfabetizado       11749 non-null  object \n",
      "dtypes: float64(2), int64(2), object(1)\n",
      "memory usage: 583.4+ KB\n"
     ]
    }
   ],
   "execution_count": 23
  },
  {
   "metadata": {
    "ExecuteTime": {
     "end_time": "2025-07-17T04:39:38.455273Z",
     "start_time": "2025-07-17T04:39:38.445244Z"
    }
   },
   "cell_type": "code",
   "source": [
    "# Limpeza e Conversão\n",
    "df_pb_15_mais = df_pb[df_pb['Idade'] >= 15].copy()\n",
    "\n",
    "print(f\"Amostra inicial (todas as idades): {len(df_pb)} pessoas\")\n",
    "print(f\"Amostra para análise de alfabetismo (15+ anos): {len(df_pb_15_mais)} pessoas\")"
   ],
   "id": "889b47e668643f2e",
   "outputs": [
    {
     "name": "stdout",
     "output_type": "stream",
     "text": [
      "Amostra inicial (todas as idades): 12445 pessoas\n",
      "Amostra para análise de alfabetismo (15+ anos): 9953 pessoas\n"
     ]
    }
   ],
   "execution_count": 24
  },
  {
   "metadata": {
    "ExecuteTime": {
     "end_time": "2025-07-17T04:39:38.518681Z",
     "start_time": "2025-07-17T04:39:38.511655Z"
    }
   },
   "cell_type": "code",
   "source": [
    "df_pb_15_mais['Sabe_Ler_Escrever_num'] = pd.to_numeric(\n",
    "    df_pb_15_mais['Sabe_Ler_Escrever'],\n",
    "    errors='coerce'\n",
    ")\n",
    "\n",
    "print(\"Valores na nova coluna numérica, após limpeza:\")\n",
    "print(df_pb_15_mais['Sabe_Ler_Escrever_num'].value_counts(dropna=False))\n"
   ],
   "id": "885abc06d3e0374c",
   "outputs": [
    {
     "name": "stdout",
     "output_type": "stream",
     "text": [
      "Valores na nova coluna numérica, após limpeza:\n",
      "Sabe_Ler_Escrever_num\n",
      "1.00    8452\n",
      "2.00    1501\n",
      "Name: count, dtype: int64\n"
     ]
    }
   ],
   "execution_count": 25
  },
  {
   "metadata": {
    "ExecuteTime": {
     "end_time": "2025-07-17T04:39:38.582581Z",
     "start_time": "2025-07-17T04:39:38.573630Z"
    }
   },
   "cell_type": "code",
   "source": [
    "# Calculo da taxa de analfabetismo\n",
    "df_com_resposta = df_pb_15_mais.dropna(subset=['Sabe_Ler_Escrever_num'])\n",
    "\n",
    "total_analfabetos = (df_com_resposta['Sabe_Ler_Escrever_num'] == 2).sum()\n",
    "total_populacao_valida = len(df_com_resposta)\n",
    "\n",
    "if total_populacao_valida > 0:\n",
    "    taxa_analfabetismo = (total_analfabetos / total_populacao_valida) * 100\n",
    "    print(f\"\\nNúmero de analfabetos (15+ anos) na amostra: {total_analfabetos}\")\n",
    "    print(f\"População válida para o calculo (15+ anos): {total_populacao_valida}\")\n",
    "    print(f\"\\nTaxa de Analfabetismo na Paraíba (15+ anos): {taxa_analfabetismo:.2f}%\")\n",
    "else:\n",
    "    print(\"Não há dados válidos para calcular a taxa de analfabetismo.\")\n"
   ],
   "id": "68e80913f0c68de0",
   "outputs": [
    {
     "name": "stdout",
     "output_type": "stream",
     "text": [
      "\n",
      "Número de analfabetos (15+ anos) na amostra: 1501\n",
      "População válida para o calculo (15+ anos): 9953\n",
      "\n",
      "Taxa de Analfabetismo na Paraíba (15+ anos): 15.08%\n"
     ]
    }
   ],
   "execution_count": 26
  },
  {
   "metadata": {
    "ExecuteTime": {
     "end_time": "2025-07-17T04:39:38.656197Z",
     "start_time": "2025-07-17T04:39:38.648792Z"
    }
   },
   "cell_type": "code",
   "source": [
    "# Cálculo do rendimento médio\n",
    "df_com_renda = df_pb.dropna(subset=['Rendimento'])\n",
    "\n",
    "rendimento_medio_pb = df_com_renda['Rendimento'].mean()\n",
    "\n",
    "print(f\"Número de pessoas com rendimento declarado na amostra: {len(df_com_renda)}\")\n",
    "print(f\"Rendimento Médio na Paraíba: R$ {rendimento_medio_pb:.2f}\")"
   ],
   "id": "5cf5e55fd875f9d6",
   "outputs": [
    {
     "name": "stdout",
     "output_type": "stream",
     "text": [
      "Número de pessoas com rendimento declarado na amostra: 4318\n",
      "Rendimento Médio na Paraíba: R$ 2087.68\n"
     ]
    }
   ],
   "execution_count": 27
  },
  {
   "metadata": {
    "ExecuteTime": {
     "end_time": "2025-07-17T04:39:38.719033Z",
     "start_time": "2025-07-17T04:39:38.711438Z"
    }
   },
   "cell_type": "code",
   "source": [
    "# Cálculo do Índice de Gini\n",
    "def gini(array):\n",
    "    array = np.sort(np.asarray(array))\n",
    "    n = len(array)\n",
    "    index = np.arange(1, n + 1)\n",
    "    return (np.sum((2 * index - n - 1) * array)) / (n * np.sum(array))\n",
    "\n",
    "\n",
    "dados_rendimento = df_com_renda['Rendimento'].dropna()\n",
    "\n",
    "indice_gini_pb = gini(dados_rendimento)\n",
    "print(f\"--- Resultado Final do Desafio 2 ---\")\n",
    "print(f\"Taxa de Analfabetismo (15+ anos): {taxa_analfabetismo:.2f}%\")\n",
    "print(f\"Rendimento Médio: R$ {rendimento_medio_pb:.2f}\")\n",
    "print(f\"Índice de Gini para o rendimento: {indice_gini_pb:.4f}\")\n"
   ],
   "id": "83a0fc0c1b106f23",
   "outputs": [
    {
     "name": "stdout",
     "output_type": "stream",
     "text": [
      "--- Resultado Final do Desafio 2 ---\n",
      "Taxa de Analfabetismo (15+ anos): 15.08%\n",
      "Rendimento Médio: R$ 2087.68\n",
      "Índice de Gini para o rendimento: 0.5503\n"
     ]
    }
   ],
   "execution_count": 28
  },
  {
   "metadata": {},
   "cell_type": "markdown",
   "source": "### 3. Fazer o Load dos dados ",
   "id": "e699d5e606ff1dd1"
  },
  {
   "metadata": {
    "ExecuteTime": {
     "end_time": "2025-07-17T04:39:38.771992Z",
     "start_time": "2025-07-17T04:39:38.767557Z"
    }
   },
   "cell_type": "code",
   "source": [
    "# --- RESULTADOS FINAIS PARA A PARAÍBA (PNAD CONTÍNUA 2023) ---\n",
    "\n",
    "print(\"=\" * 60)\n",
    "print(\"PRINCIPAIS INDICADORES SOCIECONÔMICOS PARA A PARAÍBA\")\n",
    "print(\"=\" * 60)\n",
    "print(f\"Taxa de Analfabetismo (15+ anos): {taxa_analfabetismo:.2f}%\")\n",
    "print(f\"Rendimento Médio Mensal (de todos os trabalhos): R$ {rendimento_medio_pb:.2f}\")\n",
    "print(f\"Índice de Gini (Concentração de Renda): {indice_gini_pb:.4f}\")\n",
    "print(\"=\" * 60)"
   ],
   "id": "17e8fbb59d010b05",
   "outputs": [
    {
     "name": "stdout",
     "output_type": "stream",
     "text": [
      "============================================================\n",
      "PRINCIPAIS INDICADORES SOCIECONÔMICOS PARA A PARAÍBA\n",
      "============================================================\n",
      "Taxa de Analfabetismo (15+ anos): 15.08%\n",
      "Rendimento Médio Mensal (de todos os trabalhos): R$ 2087.68\n",
      "Índice de Gini (Concentração de Renda): 0.5503\n",
      "============================================================\n"
     ]
    }
   ],
   "execution_count": 29
  },
  {
   "metadata": {
    "ExecuteTime": {
     "end_time": "2025-07-17T04:39:39.265406Z",
     "start_time": "2025-07-17T04:39:38.851810Z"
    }
   },
   "cell_type": "code",
   "source": [
    "plt.figure(figsize=(12, 7))\n",
    "sns.histplot(df_com_renda['Rendimento'], bins=50, kde=True, color='skyblue')\n",
    "\n",
    "plt.axvline(\n",
    "    x=rendimento_medio_pb,\n",
    "    color='red',\n",
    "    linestyle='--',\n",
    "    linewidth=2,\n",
    "    label=f'Média: R$ {rendimento_medio_pb:.2f}'\n",
    ")\n",
    "\n",
    "plt.title('Distribuição de Rendimento Mensal na Paraíba', fontsize=16)\n",
    "plt.xlabel('Rendimento (R$)', fontsize=12)\n",
    "plt.ylabel('Contagem de Pessoas', fontsize=12)\n",
    "plt.legend()\n",
    "plt.xscale('log')\n",
    "plt.show()"
   ],
   "id": "2dec0c90cfb797c1",
   "outputs": [
    {
     "data": {
      "text/plain": [
       "<Figure size 1200x700 with 1 Axes>"
      ],
      "image/png": "[encoded data removed]"
     },
     "metadata": {},
     "output_type": "display_data"
    }
   ],
   "execution_count": 30
  },
  {
   "metadata": {},
   "cell_type": "markdown",
   "source": [
    "### **Conclusão da Análise (Desafio 2)**\n",
    "\n",
    "A análise dos microdados da PNAD Contínua para a Paraíba revela um cenário socioeconômico com desafios significativos.\n",
    "\n",
    "1.  **Educação:** A **taxa de analfabetismo** para a população acima de 15 anos se mantém em **15.08%**, um indicador que aponta para a necessidade de políticas contínuas de educação para jovens e adultos.\n",
    "\n",
    "2.  **Rendimento e Desigualdade:** O **rendimento médio de R$ 2087.68** mascara uma forte desigualdade, como evidenciado pelo histograma de distribuição. A grande maioria da população se concentra na faixa de baixa renda, enquanto poucos indivíduos possuem rendimentos muito elevados.\n",
    "\n",
    "3.  **Concentração de Renda:** Essa desigualdade é confirmada pelo **Índice de Gini de 0.5503**. Um valor neste patamar indica um alto nível de concentração de renda, sendo um dos principais desafios para o desenvolvimento social e econômico do estado.\n",
    "\n",
    "Em suma, os dados apontam para a interconexão entre os desafios educacionais e a estrutura de desigualdade de renda na Paraíba."
   ],
   "id": "67e4e3c9b14f9f35"
  },
  {
   "metadata": {},
   "cell_type": "markdown",
   "source": "# Desafio 3: Análise de Despesas POF IBGE - Paraíba\n",
   "id": "ce84d502b25f3d1c"
  },
  {
   "metadata": {},
   "cell_type": "markdown",
   "source": [
    "### 1. Extração e leitura dos dados\n",
    "\n",
    "Com base no script oficial do IBGE de comandos, eu defini widths e names das colunas"
   ],
   "id": "6fefd937ae6226f3"
  },
  {
   "metadata": {
    "ExecuteTime": {
     "end_time": "2025-07-17T04:39:55.292716Z",
     "start_time": "2025-07-17T04:39:39.279425Z"
    }
   },
   "cell_type": "code",
   "source": [
    "col_widths = [2, 4, 1, 9, 2, 1, 2, 3, 7, 2, 10, 12, 10, 1, 2, 14, 14, 10, 9, 4, 5, 9, 5]\n",
    "col_names = [\n",
    "    \"UF\", \"ESTRATO_POF\", \"TIPO_SITUACAO_REG\", \"COD_UPA\", \"NUM_DOM\", \"NUM_UC\",\n",
    "    \"QUADRO\", \"SEQ\", \"V9001\", \"V9002\", \"V8000\", \"DEFLATOR\", \"V8000_DEFLA\",\n",
    "    \"COD_IMPUT_VALOR\", \"FATOR_ANUALIZACAO\", \"PESO\", \"PESO_FINAL\", \"RENDA_TOTAL\",\n",
    "    \"V9005\", \"V9007\", \"V9009\", \"QTD_FINAL\", \"V9004\"\n",
    "]\n",
    "\n",
    "df_pof = pd.read_fwf(\n",
    "    \"CADERNETA_COLETIVA.txt\",\n",
    "    widths=col_widths,\n",
    "    names=col_names,\n",
    "    header=None\n",
    ")\n",
    "print(\"Arquivo Caderneta Coletiva lido com sucesso.\")\n",
    "display(df_pof.head())\n"
   ],
   "id": "bcec63e1b1e2d5c9",
   "outputs": [
    {
     "name": "stdout",
     "output_type": "stream",
     "text": [
      "Arquivo Caderneta Coletiva lido com sucesso.\n"
     ]
    },
    {
     "data": {
      "text/plain": [
       "   UF  ESTRATO_POF  TIPO_SITUACAO_REG    COD_UPA  NUM_DOM  NUM_UC  QUADRO  \\\n",
       "0  11         1103                  1  110005400        1       1      67   \n",
       "1  11         1103                  1  110005400        1       1      67   \n",
       "2  11         1103                  1  110005400        1       1      67   \n",
       "3  11         1103                  1  110005400        1       1      67   \n",
       "4  11         1103                  1  110005400        1       1      67   \n",
       "\n",
       "   SEQ    V9001  V9002  ...  COD_IMPUT_VALOR  FATOR_ANUALIZACAO   PESO  \\\n",
       "0    1  6300112      3  ...                0                 52 272.81   \n",
       "1    2  7100201      3  ...                0                 52 272.81   \n",
       "2    3  8300101      3  ...                0                 52 272.81   \n",
       "3    4  6400601      3  ...                0                 52 272.81   \n",
       "4    5  6900901      3  ...                0                 52 272.81   \n",
       "\n",
       "   PESO_FINAL  RENDA_TOTAL  V9005    V9007  V9009  QTD_FINAL  V9004  \n",
       "0      372.98    11,254.75   1.00 1,301.00 802.00       5.00    101  \n",
       "1      372.98    11,254.75   4.00 4,806.00    NaN       4.00    101  \n",
       "2      372.98    11,254.75   2.00   201.00    NaN       8.83    101  \n",
       "3      372.98    11,254.75   2.00 4,806.00    NaN       2.00    101  \n",
       "4      372.98    11,254.75   1.00   201.00    NaN       0.27    101  \n",
       "\n",
       "[5 rows x 23 columns]"
      ],
      "text/html": [
       "<div>\n",
       "<style scoped>\n",
       "    .dataframe tbody tr th:only-of-type {\n",
       "        vertical-align: middle;\n",
       "    }\n",
       "\n",
       "    .dataframe tbody tr th {\n",
       "        vertical-align: top;\n",
       "    }\n",
       "\n",
       "    .dataframe thead th {\n",
       "        text-align: right;\n",
       "    }\n",
       "</style>\n",
       "<table border=\"1\" class=\"dataframe\">\n",
       "  <thead>\n",
       "    <tr style=\"text-align: right;\">\n",
       "      <th></th>\n",
       "      <th>UF</th>\n",
       "      <th>ESTRATO_POF</th>\n",
       "      <th>TIPO_SITUACAO_REG</th>\n",
       "      <th>COD_UPA</th>\n",
       "      <th>NUM_DOM</th>\n",
       "      <th>NUM_UC</th>\n",
       "      <th>QUADRO</th>\n",
       "      <th>SEQ</th>\n",
       "      <th>V9001</th>\n",
       "      <th>V9002</th>\n",
       "      <th>...</th>\n",
       "      <th>COD_IMPUT_VALOR</th>\n",
       "      <th>FATOR_ANUALIZACAO</th>\n",
       "      <th>PESO</th>\n",
       "      <th>PESO_FINAL</th>\n",
       "      <th>RENDA_TOTAL</th>\n",
       "      <th>V9005</th>\n",
       "      <th>V9007</th>\n",
       "      <th>V9009</th>\n",
       "      <th>QTD_FINAL</th>\n",
       "      <th>V9004</th>\n",
       "    </tr>\n",
       "  </thead>\n",
       "  <tbody>\n",
       "    <tr>\n",
       "      <th>0</th>\n",
       "      <td>11</td>\n",
       "      <td>1103</td>\n",
       "      <td>1</td>\n",
       "      <td>110005400</td>\n",
       "      <td>1</td>\n",
       "      <td>1</td>\n",
       "      <td>67</td>\n",
       "      <td>1</td>\n",
       "      <td>6300112</td>\n",
       "      <td>3</td>\n",
       "      <td>...</td>\n",
       "      <td>0</td>\n",
       "      <td>52</td>\n",
       "      <td>272.81</td>\n",
       "      <td>372.98</td>\n",
       "      <td>11,254.75</td>\n",
       "      <td>1.00</td>\n",
       "      <td>1,301.00</td>\n",
       "      <td>802.00</td>\n",
       "      <td>5.00</td>\n",
       "      <td>101</td>\n",
       "    </tr>\n",
       "    <tr>\n",
       "      <th>1</th>\n",
       "      <td>11</td>\n",
       "      <td>1103</td>\n",
       "      <td>1</td>\n",
       "      <td>110005400</td>\n",
       "      <td>1</td>\n",
       "      <td>1</td>\n",
       "      <td>67</td>\n",
       "      <td>2</td>\n",
       "      <td>7100201</td>\n",
       "      <td>3</td>\n",
       "      <td>...</td>\n",
       "      <td>0</td>\n",
       "      <td>52</td>\n",
       "      <td>272.81</td>\n",
       "      <td>372.98</td>\n",
       "      <td>11,254.75</td>\n",
       "      <td>4.00</td>\n",
       "      <td>4,806.00</td>\n",
       "      <td>NaN</td>\n",
       "      <td>4.00</td>\n",
       "      <td>101</td>\n",
       "    </tr>\n",
       "    <tr>\n",
       "      <th>2</th>\n",
       "      <td>11</td>\n",
       "      <td>1103</td>\n",
       "      <td>1</td>\n",
       "      <td>110005400</td>\n",
       "      <td>1</td>\n",
       "      <td>1</td>\n",
       "      <td>67</td>\n",
       "      <td>3</td>\n",
       "      <td>8300101</td>\n",
       "      <td>3</td>\n",
       "      <td>...</td>\n",
       "      <td>0</td>\n",
       "      <td>52</td>\n",
       "      <td>272.81</td>\n",
       "      <td>372.98</td>\n",
       "      <td>11,254.75</td>\n",
       "      <td>2.00</td>\n",
       "      <td>201.00</td>\n",
       "      <td>NaN</td>\n",
       "      <td>8.83</td>\n",
       "      <td>101</td>\n",
       "    </tr>\n",
       "    <tr>\n",
       "      <th>3</th>\n",
       "      <td>11</td>\n",
       "      <td>1103</td>\n",
       "      <td>1</td>\n",
       "      <td>110005400</td>\n",
       "      <td>1</td>\n",
       "      <td>1</td>\n",
       "      <td>67</td>\n",
       "      <td>4</td>\n",
       "      <td>6400601</td>\n",
       "      <td>3</td>\n",
       "      <td>...</td>\n",
       "      <td>0</td>\n",
       "      <td>52</td>\n",
       "      <td>272.81</td>\n",
       "      <td>372.98</td>\n",
       "      <td>11,254.75</td>\n",
       "      <td>2.00</td>\n",
       "      <td>4,806.00</td>\n",
       "      <td>NaN</td>\n",
       "      <td>2.00</td>\n",
       "      <td>101</td>\n",
       "    </tr>\n",
       "    <tr>\n",
       "      <th>4</th>\n",
       "      <td>11</td>\n",
       "      <td>1103</td>\n",
       "      <td>1</td>\n",
       "      <td>110005400</td>\n",
       "      <td>1</td>\n",
       "      <td>1</td>\n",
       "      <td>67</td>\n",
       "      <td>5</td>\n",
       "      <td>6900901</td>\n",
       "      <td>3</td>\n",
       "      <td>...</td>\n",
       "      <td>0</td>\n",
       "      <td>52</td>\n",
       "      <td>272.81</td>\n",
       "      <td>372.98</td>\n",
       "      <td>11,254.75</td>\n",
       "      <td>1.00</td>\n",
       "      <td>201.00</td>\n",
       "      <td>NaN</td>\n",
       "      <td>0.27</td>\n",
       "      <td>101</td>\n",
       "    </tr>\n",
       "  </tbody>\n",
       "</table>\n",
       "<p>5 rows × 23 columns</p>\n",
       "</div>"
      ]
     },
     "metadata": {},
     "output_type": "display_data"
    }
   ],
   "execution_count": 31
  },
  {
   "metadata": {},
   "cell_type": "markdown",
   "source": "### 2.  Limpeza e transformação dos dados",
   "id": "ae54788524fde7db"
  },
  {
   "metadata": {
    "ExecuteTime": {
     "end_time": "2025-07-17T04:39:55.426968Z",
     "start_time": "2025-07-17T04:39:55.382813Z"
    }
   },
   "cell_type": "code",
   "source": [
    "# filtrar para pb\n",
    "df_paraiba = df_pof[df_pof['UF'] == 25].copy()\n",
    "\n",
    "# criar coluna com 5 digitos para facilitar os codigos que sao sinonimos tipo mexirica e laranja\n",
    "df_paraiba['codigo'] = df_paraiba['V9001'] // 100\n",
    "\n",
    "# excluir itens de higiene e limpeza\n",
    "df_paraiba_alimentos = df_paraiba[~df_paraiba['codigo'].between(86001, 89999)].copy()\n",
    "\n",
    "# pra tratar possiveis erros de tipagem\n",
    "df_paraiba_alimentos['VALOR_REAL'] = pd.to_numeric(df_paraiba_alimentos['V8000_DEFLA'], errors='coerce')\n",
    "\n",
    "# remover linhas que possam dar erro e retirar os valores absurdos do IBGE\n",
    "df_paraiba_limpo = df_paraiba_alimentos.dropna(subset=['VALOR_REAL']).copy()\n",
    "df_paraiba_limpo = df_paraiba_limpo[df_paraiba_limpo['VALOR_REAL'] < 9999999.99]\n",
    "\n",
    "print(f\"Dados filtrados e limpos. Restaram {len(df_paraiba_limpo)} registros válidos na Paraíba.\")\n",
    "display(df_paraiba_limpo[['UF', 'codigo', 'V8000', 'V8000_DEFLA', 'VALOR_REAL']].head())"
   ],
   "id": "535f185378eb66b7",
   "outputs": [
    {
     "name": "stdout",
     "output_type": "stream",
     "text": [
      "Dados filtrados e limpos. Restaram 21026 registros válidos na Paraíba.\n"
     ]
    },
    {
     "data": {
      "text/plain": [
       "        UF  codigo  V8000  V8000_DEFLA  VALOR_REAL\n",
       "228036  25   80001   2.00         2.00        2.00\n",
       "228037  25   80001   2.00         2.00        2.00\n",
       "228038  25   71016  32.00        32.00       32.00\n",
       "228039  25   80001   2.00         2.00        2.00\n",
       "228040  25   90009   5.00         5.01        5.01"
      ],
      "text/html": [
       "<div>\n",
       "<style scoped>\n",
       "    .dataframe tbody tr th:only-of-type {\n",
       "        vertical-align: middle;\n",
       "    }\n",
       "\n",
       "    .dataframe tbody tr th {\n",
       "        vertical-align: top;\n",
       "    }\n",
       "\n",
       "    .dataframe thead th {\n",
       "        text-align: right;\n",
       "    }\n",
       "</style>\n",
       "<table border=\"1\" class=\"dataframe\">\n",
       "  <thead>\n",
       "    <tr style=\"text-align: right;\">\n",
       "      <th></th>\n",
       "      <th>UF</th>\n",
       "      <th>codigo</th>\n",
       "      <th>V8000</th>\n",
       "      <th>V8000_DEFLA</th>\n",
       "      <th>VALOR_REAL</th>\n",
       "    </tr>\n",
       "  </thead>\n",
       "  <tbody>\n",
       "    <tr>\n",
       "      <th>228036</th>\n",
       "      <td>25</td>\n",
       "      <td>80001</td>\n",
       "      <td>2.00</td>\n",
       "      <td>2.00</td>\n",
       "      <td>2.00</td>\n",
       "    </tr>\n",
       "    <tr>\n",
       "      <th>228037</th>\n",
       "      <td>25</td>\n",
       "      <td>80001</td>\n",
       "      <td>2.00</td>\n",
       "      <td>2.00</td>\n",
       "      <td>2.00</td>\n",
       "    </tr>\n",
       "    <tr>\n",
       "      <th>228038</th>\n",
       "      <td>25</td>\n",
       "      <td>71016</td>\n",
       "      <td>32.00</td>\n",
       "      <td>32.00</td>\n",
       "      <td>32.00</td>\n",
       "    </tr>\n",
       "    <tr>\n",
       "      <th>228039</th>\n",
       "      <td>25</td>\n",
       "      <td>80001</td>\n",
       "      <td>2.00</td>\n",
       "      <td>2.00</td>\n",
       "      <td>2.00</td>\n",
       "    </tr>\n",
       "    <tr>\n",
       "      <th>228040</th>\n",
       "      <td>25</td>\n",
       "      <td>90009</td>\n",
       "      <td>5.00</td>\n",
       "      <td>5.01</td>\n",
       "      <td>5.01</td>\n",
       "    </tr>\n",
       "  </tbody>\n",
       "</table>\n",
       "</div>"
      ]
     },
     "metadata": {},
     "output_type": "display_data"
    }
   ],
   "execution_count": 32
  },
  {
   "metadata": {},
   "cell_type": "markdown",
   "source": "### 3. Load dos dados em estatisticas e resultados",
   "id": "c2464653ef7457cc"
  },
  {
   "metadata": {
    "ExecuteTime": {
     "end_time": "2025-07-17T04:39:55.774442Z",
     "start_time": "2025-07-17T04:39:55.727102Z"
    }
   },
   "cell_type": "code",
   "source": [
    "# calcular as estatisticas pedidas do desafio\n",
    "media = df_paraiba_limpo['VALOR_REAL'].mean()\n",
    "mediana = df_paraiba_limpo['VALOR_REAL'].median()\n",
    "desvio_padrao = df_paraiba_limpo['VALOR_REAL'].std()\n",
    "\n",
    "print(\"--- Perfil de despesas com alimentação no domicilio (PB) ---\")\n",
    "print(f\"Despesa média por registro: R$ {media:.2f}\")\n",
    "print(f\"Despesa mediana por registro: R$ {mediana:.2f}\")\n",
    "print(f\"Desvio padrão das despesas: R$ {desvio_padrao:.2f}\")"
   ],
   "id": "46600fd7064af792",
   "outputs": [
    {
     "name": "stdout",
     "output_type": "stream",
     "text": [
      "--- Perfil de despesas com alimentação no domicilio (PB) ---\n",
      "Despesa média por registro: R$ 7.31\n",
      "Despesa mediana por registro: R$ 3.96\n",
      "Desvio padrão das despesas: R$ 13.88\n"
     ]
    }
   ],
   "execution_count": 33
  },
  {
   "metadata": {
    "ExecuteTime": {
     "end_time": "2025-07-17T04:39:56.244771Z",
     "start_time": "2025-07-17T04:39:56.092933Z"
    }
   },
   "cell_type": "code",
   "source": [
    "# Pegar o tradutor para termos os codigos de alimentos e nomes corretos\n",
    "df_tradutor = pd.read_excel(\"Tradutor_Alimentação.xls\")\n",
    "print(\"Arquivo do traduro carregado.\")\n",
    "\n",
    "print(\"\\nNomes das colunas no tradutor:\", df_tradutor.columns)\n",
    "print(\"\\nPre visualização do tradutor:\")\n",
    "display(df_tradutor.head())"
   ],
   "id": "86f8e164ef45e0fe",
   "outputs": [
    {
     "name": "stdout",
     "output_type": "stream",
     "text": [
      "Arquivo do traduro carregado.\n",
      "\n",
      "Nomes das colunas no tradutor: Index(['Codigo', 'Nivel_0', 'Descricao_0', 'Nivel_1', 'Descricao_1', 'Nivel_2',\n",
      "       'Descricao_2', 'Nivel_3', 'Descricao_3', 'Unnamed: 9', 'condicao'],\n",
      "      dtype='object')\n",
      "\n",
      "Pre visualização do tradutor:\n"
     ]
    },
    {
     "data": {
      "text/plain": [
       "   Codigo  Nivel_0  Descricao_0  Nivel_1               Descricao_1  Nivel_2  \\\n",
       "0   63001        0  Alimentacao        1  Alimentação no domicílio      101   \n",
       "1   63002        0  Alimentacao        1  Alimentação no domicílio      101   \n",
       "2   63003        0  Alimentacao        1  Alimentação no domicílio      101   \n",
       "3   63018        0  Alimentacao        1  Alimentação no domicílio      101   \n",
       "4   63033        0  Alimentacao        1  Alimentação no domicílio      101   \n",
       "\n",
       "                          Descricao_2  Nivel_3 Descricao_3  Unnamed: 9  \\\n",
       "0  Cereais, leguminosas e oleaginosas 1,011.00       Arroz         NaN   \n",
       "1  Cereais, leguminosas e oleaginosas 1,011.00       Arroz         NaN   \n",
       "2  Cereais, leguminosas e oleaginosas 1,011.00       Arroz         NaN   \n",
       "3  Cereais, leguminosas e oleaginosas 1,011.00       Arroz         NaN   \n",
       "4  Cereais, leguminosas e oleaginosas 1,011.00       Arroz         NaN   \n",
       "\n",
       "  condicao  \n",
       "0      NaN  \n",
       "1      NaN  \n",
       "2      NaN  \n",
       "3      NaN  \n",
       "4      NaN  "
      ],
      "text/html": [
       "<div>\n",
       "<style scoped>\n",
       "    .dataframe tbody tr th:only-of-type {\n",
       "        vertical-align: middle;\n",
       "    }\n",
       "\n",
       "    .dataframe tbody tr th {\n",
       "        vertical-align: top;\n",
       "    }\n",
       "\n",
       "    .dataframe thead th {\n",
       "        text-align: right;\n",
       "    }\n",
       "</style>\n",
       "<table border=\"1\" class=\"dataframe\">\n",
       "  <thead>\n",
       "    <tr style=\"text-align: right;\">\n",
       "      <th></th>\n",
       "      <th>Codigo</th>\n",
       "      <th>Nivel_0</th>\n",
       "      <th>Descricao_0</th>\n",
       "      <th>Nivel_1</th>\n",
       "      <th>Descricao_1</th>\n",
       "      <th>Nivel_2</th>\n",
       "      <th>Descricao_2</th>\n",
       "      <th>Nivel_3</th>\n",
       "      <th>Descricao_3</th>\n",
       "      <th>Unnamed: 9</th>\n",
       "      <th>condicao</th>\n",
       "    </tr>\n",
       "  </thead>\n",
       "  <tbody>\n",
       "    <tr>\n",
       "      <th>0</th>\n",
       "      <td>63001</td>\n",
       "      <td>0</td>\n",
       "      <td>Alimentacao</td>\n",
       "      <td>1</td>\n",
       "      <td>Alimentação no domicílio</td>\n",
       "      <td>101</td>\n",
       "      <td>Cereais, leguminosas e oleaginosas</td>\n",
       "      <td>1,011.00</td>\n",
       "      <td>Arroz</td>\n",
       "      <td>NaN</td>\n",
       "      <td>NaN</td>\n",
       "    </tr>\n",
       "    <tr>\n",
       "      <th>1</th>\n",
       "      <td>63002</td>\n",
       "      <td>0</td>\n",
       "      <td>Alimentacao</td>\n",
       "      <td>1</td>\n",
       "      <td>Alimentação no domicílio</td>\n",
       "      <td>101</td>\n",
       "      <td>Cereais, leguminosas e oleaginosas</td>\n",
       "      <td>1,011.00</td>\n",
       "      <td>Arroz</td>\n",
       "      <td>NaN</td>\n",
       "      <td>NaN</td>\n",
       "    </tr>\n",
       "    <tr>\n",
       "      <th>2</th>\n",
       "      <td>63003</td>\n",
       "      <td>0</td>\n",
       "      <td>Alimentacao</td>\n",
       "      <td>1</td>\n",
       "      <td>Alimentação no domicílio</td>\n",
       "      <td>101</td>\n",
       "      <td>Cereais, leguminosas e oleaginosas</td>\n",
       "      <td>1,011.00</td>\n",
       "      <td>Arroz</td>\n",
       "      <td>NaN</td>\n",
       "      <td>NaN</td>\n",
       "    </tr>\n",
       "    <tr>\n",
       "      <th>3</th>\n",
       "      <td>63018</td>\n",
       "      <td>0</td>\n",
       "      <td>Alimentacao</td>\n",
       "      <td>1</td>\n",
       "      <td>Alimentação no domicílio</td>\n",
       "      <td>101</td>\n",
       "      <td>Cereais, leguminosas e oleaginosas</td>\n",
       "      <td>1,011.00</td>\n",
       "      <td>Arroz</td>\n",
       "      <td>NaN</td>\n",
       "      <td>NaN</td>\n",
       "    </tr>\n",
       "    <tr>\n",
       "      <th>4</th>\n",
       "      <td>63033</td>\n",
       "      <td>0</td>\n",
       "      <td>Alimentacao</td>\n",
       "      <td>1</td>\n",
       "      <td>Alimentação no domicílio</td>\n",
       "      <td>101</td>\n",
       "      <td>Cereais, leguminosas e oleaginosas</td>\n",
       "      <td>1,011.00</td>\n",
       "      <td>Arroz</td>\n",
       "      <td>NaN</td>\n",
       "      <td>NaN</td>\n",
       "    </tr>\n",
       "  </tbody>\n",
       "</table>\n",
       "</div>"
      ]
     },
     "metadata": {},
     "output_type": "display_data"
    }
   ],
   "execution_count": 34
  },
  {
   "metadata": {
    "ExecuteTime": {
     "end_time": "2025-07-17T04:39:56.358408Z",
     "start_time": "2025-07-17T04:39:56.293516Z"
    }
   },
   "cell_type": "code",
   "source": [
    "# Unir tudo\n",
    "\n",
    "df_final_completo = pd.merge(\n",
    "    df_paraiba_limpo,\n",
    "    df_tradutor,\n",
    "    left_on='codigo',\n",
    "    right_on='Codigo',\n",
    "    how='left'\n",
    ")\n",
    "\n",
    "print(\"Junção realizada\")\n",
    "print(\"Pre visualização dos dados mergeados\")\n",
    "display(df_final_completo[['codigo', 'VALOR_REAL', 'Nivel_0', 'Nivel_1', 'Nivel_2']])"
   ],
   "id": "892d95024705cbc5",
   "outputs": [
    {
     "name": "stdout",
     "output_type": "stream",
     "text": [
      "Junção realizada\n",
      "Pre visualização dos dados mergeados\n"
     ]
    },
    {
     "data": {
      "text/plain": [
       "       codigo  VALOR_REAL  Nivel_0  Nivel_1  Nivel_2\n",
       "0       80001        2.00        0        1      110\n",
       "1       80001        2.00        0        1      110\n",
       "2       71016       32.00        0        1      107\n",
       "3       80001        2.00        0        1      110\n",
       "4       90009        5.01        0        1      116\n",
       "...       ...         ...      ...      ...      ...\n",
       "21021   81021        4.81        0        1      107\n",
       "21022   78001        7.20        0        1      108\n",
       "21023   85012        0.60        0        1      115\n",
       "21024   67004        2.00        0        1      105\n",
       "21025   67045        2.10        0        1      105\n",
       "\n",
       "[21026 rows x 5 columns]"
      ],
      "text/html": [
       "<div>\n",
       "<style scoped>\n",
       "    .dataframe tbody tr th:only-of-type {\n",
       "        vertical-align: middle;\n",
       "    }\n",
       "\n",
       "    .dataframe tbody tr th {\n",
       "        vertical-align: top;\n",
       "    }\n",
       "\n",
       "    .dataframe thead th {\n",
       "        text-align: right;\n",
       "    }\n",
       "</style>\n",
       "<table border=\"1\" class=\"dataframe\">\n",
       "  <thead>\n",
       "    <tr style=\"text-align: right;\">\n",
       "      <th></th>\n",
       "      <th>codigo</th>\n",
       "      <th>VALOR_REAL</th>\n",
       "      <th>Nivel_0</th>\n",
       "      <th>Nivel_1</th>\n",
       "      <th>Nivel_2</th>\n",
       "    </tr>\n",
       "  </thead>\n",
       "  <tbody>\n",
       "    <tr>\n",
       "      <th>0</th>\n",
       "      <td>80001</td>\n",
       "      <td>2.00</td>\n",
       "      <td>0</td>\n",
       "      <td>1</td>\n",
       "      <td>110</td>\n",
       "    </tr>\n",
       "    <tr>\n",
       "      <th>1</th>\n",
       "      <td>80001</td>\n",
       "      <td>2.00</td>\n",
       "      <td>0</td>\n",
       "      <td>1</td>\n",
       "      <td>110</td>\n",
       "    </tr>\n",
       "    <tr>\n",
       "      <th>2</th>\n",
       "      <td>71016</td>\n",
       "      <td>32.00</td>\n",
       "      <td>0</td>\n",
       "      <td>1</td>\n",
       "      <td>107</td>\n",
       "    </tr>\n",
       "    <tr>\n",
       "      <th>3</th>\n",
       "      <td>80001</td>\n",
       "      <td>2.00</td>\n",
       "      <td>0</td>\n",
       "      <td>1</td>\n",
       "      <td>110</td>\n",
       "    </tr>\n",
       "    <tr>\n",
       "      <th>4</th>\n",
       "      <td>90009</td>\n",
       "      <td>5.01</td>\n",
       "      <td>0</td>\n",
       "      <td>1</td>\n",
       "      <td>116</td>\n",
       "    </tr>\n",
       "    <tr>\n",
       "      <th>...</th>\n",
       "      <td>...</td>\n",
       "      <td>...</td>\n",
       "      <td>...</td>\n",
       "      <td>...</td>\n",
       "      <td>...</td>\n",
       "    </tr>\n",
       "    <tr>\n",
       "      <th>21021</th>\n",
       "      <td>81021</td>\n",
       "      <td>4.81</td>\n",
       "      <td>0</td>\n",
       "      <td>1</td>\n",
       "      <td>107</td>\n",
       "    </tr>\n",
       "    <tr>\n",
       "      <th>21022</th>\n",
       "      <td>78001</td>\n",
       "      <td>7.20</td>\n",
       "      <td>0</td>\n",
       "      <td>1</td>\n",
       "      <td>108</td>\n",
       "    </tr>\n",
       "    <tr>\n",
       "      <th>21023</th>\n",
       "      <td>85012</td>\n",
       "      <td>0.60</td>\n",
       "      <td>0</td>\n",
       "      <td>1</td>\n",
       "      <td>115</td>\n",
       "    </tr>\n",
       "    <tr>\n",
       "      <th>21024</th>\n",
       "      <td>67004</td>\n",
       "      <td>2.00</td>\n",
       "      <td>0</td>\n",
       "      <td>1</td>\n",
       "      <td>105</td>\n",
       "    </tr>\n",
       "    <tr>\n",
       "      <th>21025</th>\n",
       "      <td>67045</td>\n",
       "      <td>2.10</td>\n",
       "      <td>0</td>\n",
       "      <td>1</td>\n",
       "      <td>105</td>\n",
       "    </tr>\n",
       "  </tbody>\n",
       "</table>\n",
       "<p>21026 rows × 5 columns</p>\n",
       "</div>"
      ]
     },
     "metadata": {},
     "output_type": "display_data"
    }
   ],
   "execution_count": 35
  },
  {
   "metadata": {
    "ExecuteTime": {
     "end_time": "2025-07-17T04:39:56.524574Z",
     "start_time": "2025-07-17T04:39:56.500971Z"
    }
   },
   "cell_type": "code",
   "source": [
    "# agrupar os valores\n",
    "despesas_por_categoria = (\n",
    "    df_final_completo.groupby('Descricao_1')['VALOR_REAL']\n",
    "    .sum()\n",
    "    .sort_values(ascending=False)\n",
    "    .reset_index()\n",
    ")\n",
    "\n",
    "# renomear as colunas para melhor visualização\n",
    "despesas_por_categoria.columns = ['Categoria', 'Despesa total (R$)']\n",
    "\n",
    "\n",
    "# aqui é a analise das subcategorias\n",
    "\n",
    "despesas_detalhadas = (\n",
    "    df_final_completo.groupby('Descricao_2')['VALOR_REAL']\n",
    "    .sum()\n",
    "    .sort_values(ascending=False)\n",
    "    .reset_index()\n",
    ")\n",
    "despesas_detalhadas.columns = ['Subcategoria', 'Despesa total (R$)']\n",
    "\n",
    "\n",
    "# resultados\n",
    "\n",
    "print(\"=\"*60)\n",
    "print(\"Maiores Despesas por Categoria de Alimento na Paraíba\")\n",
    "print(\"=\"*60)\n",
    "display(despesas_por_categoria)\n",
    "\n",
    "\n",
    "print(\"\\n\\n\" + \"=\"*60)\n",
    "print(\"Maiores Despesas por Subcategoria de Alimento na Paraíba\")\n",
    "print(\"=\"*60)\n",
    "display(despesas_detalhadas.head(15))"
   ],
   "id": "a3d2472db953c4c9",
   "outputs": [
    {
     "name": "stdout",
     "output_type": "stream",
     "text": [
      "============================================================\n",
      "Maiores Despesas por Categoria de Alimento na Paraíba\n",
      "============================================================\n"
     ]
    },
    {
     "data": {
      "text/plain": [
       "                  Categoria  Despesa total (R$)\n",
       "0  Alimentação no domicílio          153,613.56"
      ],
      "text/html": [
       "<div>\n",
       "<style scoped>\n",
       "    .dataframe tbody tr th:only-of-type {\n",
       "        vertical-align: middle;\n",
       "    }\n",
       "\n",
       "    .dataframe tbody tr th {\n",
       "        vertical-align: top;\n",
       "    }\n",
       "\n",
       "    .dataframe thead th {\n",
       "        text-align: right;\n",
       "    }\n",
       "</style>\n",
       "<table border=\"1\" class=\"dataframe\">\n",
       "  <thead>\n",
       "    <tr style=\"text-align: right;\">\n",
       "      <th></th>\n",
       "      <th>Categoria</th>\n",
       "      <th>Despesa total (R$)</th>\n",
       "    </tr>\n",
       "  </thead>\n",
       "  <tbody>\n",
       "    <tr>\n",
       "      <th>0</th>\n",
       "      <td>Alimentação no domicílio</td>\n",
       "      <td>153,613.56</td>\n",
       "    </tr>\n",
       "  </tbody>\n",
       "</table>\n",
       "</div>"
      ]
     },
     "metadata": {},
     "output_type": "display_data"
    },
    {
     "name": "stdout",
     "output_type": "stream",
     "text": [
      "\n",
      "\n",
      "============================================================\n",
      "Maiores Despesas por Subcategoria de Alimento na Paraíba\n",
      "============================================================\n"
     ]
    },
    {
     "data": {
      "text/plain": [
       "                          Subcategoria  Despesa total (R$)\n",
       "0          Carnes, vísceras e pescados           30,220.96\n",
       "1                               Outros           19,691.13\n",
       "2                          Panificados           17,540.30\n",
       "3                   Leites e derivados           16,927.05\n",
       "4                          Aves e ovos           15,393.36\n",
       "5                   Bebidas e infusões            9,604.82\n",
       "6   Cereais, leguminosas e oleaginosas            8,342.28\n",
       "7                               Frutas            8,242.44\n",
       "8           Farinhas, féculas e massas            6,518.62\n",
       "9                 Açúcares e derivados            5,304.30\n",
       "10                  Legumes e verduras            3,478.66\n",
       "11                 Tubérculos e raízes            3,361.70\n",
       "12                Alimentos preparados            2,906.39\n",
       "13                   Sal e condimentos            2,598.63\n",
       "14                    Óleos e gorduras            1,885.36"
      ],
      "text/html": [
       "<div>\n",
       "<style scoped>\n",
       "    .dataframe tbody tr th:only-of-type {\n",
       "        vertical-align: middle;\n",
       "    }\n",
       "\n",
       "    .dataframe tbody tr th {\n",
       "        vertical-align: top;\n",
       "    }\n",
       "\n",
       "    .dataframe thead th {\n",
       "        text-align: right;\n",
       "    }\n",
       "</style>\n",
       "<table border=\"1\" class=\"dataframe\">\n",
       "  <thead>\n",
       "    <tr style=\"text-align: right;\">\n",
       "      <th></th>\n",
       "      <th>Subcategoria</th>\n",
       "      <th>Despesa total (R$)</th>\n",
       "    </tr>\n",
       "  </thead>\n",
       "  <tbody>\n",
       "    <tr>\n",
       "      <th>0</th>\n",
       "      <td>Carnes, vísceras e pescados</td>\n",
       "      <td>30,220.96</td>\n",
       "    </tr>\n",
       "    <tr>\n",
       "      <th>1</th>\n",
       "      <td>Outros</td>\n",
       "      <td>19,691.13</td>\n",
       "    </tr>\n",
       "    <tr>\n",
       "      <th>2</th>\n",
       "      <td>Panificados</td>\n",
       "      <td>17,540.30</td>\n",
       "    </tr>\n",
       "    <tr>\n",
       "      <th>3</th>\n",
       "      <td>Leites e derivados</td>\n",
       "      <td>16,927.05</td>\n",
       "    </tr>\n",
       "    <tr>\n",
       "      <th>4</th>\n",
       "      <td>Aves e ovos</td>\n",
       "      <td>15,393.36</td>\n",
       "    </tr>\n",
       "    <tr>\n",
       "      <th>5</th>\n",
       "      <td>Bebidas e infusões</td>\n",
       "      <td>9,604.82</td>\n",
       "    </tr>\n",
       "    <tr>\n",
       "      <th>6</th>\n",
       "      <td>Cereais, leguminosas e oleaginosas</td>\n",
       "      <td>8,342.28</td>\n",
       "    </tr>\n",
       "    <tr>\n",
       "      <th>7</th>\n",
       "      <td>Frutas</td>\n",
       "      <td>8,242.44</td>\n",
       "    </tr>\n",
       "    <tr>\n",
       "      <th>8</th>\n",
       "      <td>Farinhas, féculas e massas</td>\n",
       "      <td>6,518.62</td>\n",
       "    </tr>\n",
       "    <tr>\n",
       "      <th>9</th>\n",
       "      <td>Açúcares e derivados</td>\n",
       "      <td>5,304.30</td>\n",
       "    </tr>\n",
       "    <tr>\n",
       "      <th>10</th>\n",
       "      <td>Legumes e verduras</td>\n",
       "      <td>3,478.66</td>\n",
       "    </tr>\n",
       "    <tr>\n",
       "      <th>11</th>\n",
       "      <td>Tubérculos e raízes</td>\n",
       "      <td>3,361.70</td>\n",
       "    </tr>\n",
       "    <tr>\n",
       "      <th>12</th>\n",
       "      <td>Alimentos preparados</td>\n",
       "      <td>2,906.39</td>\n",
       "    </tr>\n",
       "    <tr>\n",
       "      <th>13</th>\n",
       "      <td>Sal e condimentos</td>\n",
       "      <td>2,598.63</td>\n",
       "    </tr>\n",
       "    <tr>\n",
       "      <th>14</th>\n",
       "      <td>Óleos e gorduras</td>\n",
       "      <td>1,885.36</td>\n",
       "    </tr>\n",
       "  </tbody>\n",
       "</table>\n",
       "</div>"
      ]
     },
     "metadata": {},
     "output_type": "display_data"
    }
   ],
   "execution_count": 36
  },
  {
   "metadata": {
    "ExecuteTime": {
     "end_time": "2025-07-17T04:39:57.132087Z",
     "start_time": "2025-07-17T04:39:56.769365Z"
    }
   },
   "cell_type": "code",
   "source": [
    "sns.set_style(\"whitegrid\")\n",
    "plt.figure(figsize=(12, 6))\n",
    "\n",
    "df_para_plot = df_paraiba_limpo[df_paraiba_limpo['VALOR_REAL'] <= 50]\n",
    "sns.histplot(data=df_para_plot, x='VALOR_REAL', bins=50, kde=True)\n",
    "\n",
    "plt.title('Distribuição dos Valores de Compra de Alimentos na Paraíba (até R$ 50)', fontsize=16)\n",
    "plt.xlabel('Valor da Compra (R$)', fontsize=12)\n",
    "plt.ylabel('Frequência (Nº de Compras)', fontsize=12)\n",
    "\n",
    "plt.show()"
   ],
   "id": "db226cd8313be1b0",
   "outputs": [
    {
     "data": {
      "text/plain": [
       "<Figure size 1200x600 with 1 Axes>"
      ],
      "image/png": "[encoded data removed]"
     },
     "metadata": {},
     "output_type": "display_data"
    }
   ],
   "execution_count": 37
  },
  {
   "metadata": {
    "ExecuteTime": {
     "end_time": "2025-07-17T04:39:57.320064Z",
     "start_time": "2025-07-17T04:39:57.197496Z"
    }
   },
   "cell_type": "code",
   "source": [
    "plt.figure(figsize=(12, 8))\n",
    "\n",
    "grafico_barras = sns.barplot(\n",
    "    data=despesas_por_categoria,\n",
    "    x='Despesa total (R$)',\n",
    "    y='Categoria'\n",
    ")"
   ],
   "id": "9fb5928dcb977edb",
   "outputs": [
    {
     "data": {
      "text/plain": [
       "<Figure size 1200x800 with 1 Axes>"
      ],
      "image/png": "[encoded data removed]"
     },
     "metadata": {},
     "output_type": "display_data"
    }
   ],
   "execution_count": 38
  },
  {
   "metadata": {},
   "cell_type": "markdown",
   "source": [
    "### **Conclusão da Análise (Desafio 3)**\n",
    "\n",
    "Na Paraíba, as famílias costumam gastar mais com carnes, aves e alimentos básicos como pães. Elas compram com frequência, mas geralmente produtos mais baratos. Também há uma presença importante de outros itens variados nas compras. Esses dados mostram como as famílias organizam seus gastos com comida e ajudam a entender melhoros hábitos e a realidade econômica da região.\n",
    "\n"
   ],
   "id": "5998e610fe0949aa"
  }
 ],
 "metadata": {
  "kernelspec": {
   "display_name": "Python 3",
   "language": "python",
   "name": "python3"
  },
  "language_info": {
   "codemirror_mode": {
    "name": "ipython",
    "version": 2
   },
   "file_extension": ".py",
   "mimetype": "text/x-python",
   "name": "python",
   "nbconvert_exporter": "python",
   "pygments_lexer": "ipython2",
   "version": "2.7.6"
  }
 },
 "nbformat": 4,
 "nbformat_minor": 5
}
